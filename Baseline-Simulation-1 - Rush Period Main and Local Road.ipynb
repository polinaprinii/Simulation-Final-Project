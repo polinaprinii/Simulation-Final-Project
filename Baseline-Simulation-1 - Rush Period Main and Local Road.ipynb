{
 "cells": [
  {
   "cell_type": "markdown",
   "id": "82eb2f7c",
   "metadata": {
    "toc": true
   },
   "source": [
    "<h1>Table of Contents<span class=\"tocSkip\"></span></h1>\n",
    "<div class=\"toc\"><ul class=\"toc-item\"><li><span><a href=\"#Prelude\" data-toc-modified-id=\"Prelude-1\"><span class=\"toc-item-num\">1&nbsp;&nbsp;</span>Prelude</a></span></li><li><span><a href=\"#Statistic-Utilities\" data-toc-modified-id=\"Statistic-Utilities-2\"><span class=\"toc-item-num\">2&nbsp;&nbsp;</span>Statistic Utilities</a></span></li><li><span><a href=\"#Visualisation\" data-toc-modified-id=\"Visualisation-3\"><span class=\"toc-item-num\">3&nbsp;&nbsp;</span>Visualisation</a></span></li><li><span><a href=\"#Road-Network\" data-toc-modified-id=\"Road-Network-4\"><span class=\"toc-item-num\">4&nbsp;&nbsp;</span>Road Network</a></span><ul class=\"toc-item\"><li><span><a href=\"#Roads\" data-toc-modified-id=\"Roads-4.1\"><span class=\"toc-item-num\">4.1&nbsp;&nbsp;</span>Roads</a></span></li><li><span><a href=\"#Intersections\" data-toc-modified-id=\"Intersections-4.2\"><span class=\"toc-item-num\">4.2&nbsp;&nbsp;</span>Intersections</a></span></li><li><span><a href=\"#Road-Segments\" data-toc-modified-id=\"Road-Segments-4.3\"><span class=\"toc-item-num\">4.3&nbsp;&nbsp;</span>Road Segments</a></span></li><li><span><a href=\"#Road-Network\" data-toc-modified-id=\"Road-Network-4.4\"><span class=\"toc-item-num\">4.4&nbsp;&nbsp;</span>Road Network</a></span></li></ul></li><li><span><a href=\"#Vehicles\" data-toc-modified-id=\"Vehicles-5\"><span class=\"toc-item-num\">5&nbsp;&nbsp;</span>Vehicles</a></span></li><li><span><a href=\"#Recorder\" data-toc-modified-id=\"Recorder-6\"><span class=\"toc-item-num\">6&nbsp;&nbsp;</span>Recorder</a></span></li><li><span><a href=\"#Simulation\" data-toc-modified-id=\"Simulation-7\"><span class=\"toc-item-num\">7&nbsp;&nbsp;</span>Simulation</a></span><ul class=\"toc-item\"><li><span><a href=\"#Simulation-Through-Road\" data-toc-modified-id=\"Simulation-Through-Road-7.1\"><span class=\"toc-item-num\">7.1&nbsp;&nbsp;</span>Simulation Through Road</a></span><ul class=\"toc-item\"><li><span><a href=\"#Code-Crossing-Through-Road\" data-toc-modified-id=\"Code-Crossing-Through-Road-7.1.1\"><span class=\"toc-item-num\">7.1.1&nbsp;&nbsp;</span>Code Crossing Through Road</a></span></li><li><span><a href=\"#Simulation-1-Rush-Period-Main-and-Local-Road\" data-toc-modified-id=\"Simulation-1-Rush-Period-Main-and-Local-Road\"><span class=\"toc-item-num\">7.1.2&nbsp;&nbsp;</span>Simulation 1 Rush Period Main and Local Road</a></span></li><li><span><a href=\"#Visualisation-Crossing-Through-Road\" data-toc-modified-id=\"Visualisation-Crossing-Through-Road-7.1.3\"><span class=\"toc-item-num\">7.1.3&nbsp;&nbsp;</span>Visualisation Crossing Through Road</a></span></li><li><span><a href=\"#Statistics-Crossing-Through-Road\" data-toc-modified-id=\"Statistics-Crossing-Through-Road-7.1.4\"><span class=\"toc-item-num\">7.1.4&nbsp;&nbsp;</span>Statistics Crossing Through Road</a></span><ul class=\"toc-item\"><li><span><a href=\"#Traffic-Density-in-veh/km\" data-toc-modified-id=\"Traffic-Density-in-veh/km-7.1.4.1\"><span class=\"toc-item-num\">7.1.4.1&nbsp;&nbsp;</span>Traffic Density in veh/km</a></span></li><li><span><a href=\"#Traffic-Flow-in-veh/h\" data-toc-modified-id=\"Traffic-Flow-in-veh/h-7.1.4.2\"><span class=\"toc-item-num\">7.1.4.2&nbsp;&nbsp;</span>Traffic Flow in veh/h</a></span></li><li><span><a href=\"#Average-Travelling-Time-in-s\" data-toc-modified-id=\"Average-Travelling-Time-in-s-7.1.4.3\"><span class=\"toc-item-num\">7.1.4.3&nbsp;&nbsp;</span>Average Travelling Time in s</a></span></li><li><span><a href=\"#Average-Speed-in-km/h\" data-toc-modified-id=\"Average-Speed-in-km/h-7.1.4.4\"><span class=\"toc-item-num\">7.1.4.4&nbsp;&nbsp;</span>Average Speed in km/h</a></span></li></ul></li></ul></li></ul></li></ul></div>"
   ]
  },
  {
   "cell_type": "code",
   "execution_count": 1,
   "id": "3ca1fe2d",
   "metadata": {
    "ExecuteTime": {
     "end_time": "2022-03-30T16:25:52.336452Z",
     "start_time": "2022-03-30T16:25:52.327772Z"
    }
   },
   "outputs": [],
   "source": [
    "VERSION = 'Baseline_Simulation_1'"
   ]
  },
  {
   "cell_type": "markdown",
   "id": "4934a37f",
   "metadata": {},
   "source": [
    "# Prelude"
   ]
  },
  {
   "cell_type": "code",
   "execution_count": 2,
   "id": "6bda5e5f",
   "metadata": {
    "ExecuteTime": {
     "end_time": "2022-03-30T16:25:53.473915Z",
     "start_time": "2022-03-30T16:25:52.337707Z"
    }
   },
   "outputs": [],
   "source": [
    "import pandas as pd\n",
    "import matplotlib.pyplot as plt\n",
    "import math\n",
    "import numpy as np\n",
    "import random\n",
    "\n",
    "import simpy"
   ]
  },
  {
   "cell_type": "code",
   "execution_count": 3,
   "id": "948c83d8",
   "metadata": {
    "ExecuteTime": {
     "end_time": "2022-03-30T16:25:53.476306Z",
     "start_time": "2022-03-30T16:25:53.474810Z"
    }
   },
   "outputs": [],
   "source": [
    "def isNearZero(x, ε = 0.00001):\n",
    "    return abs(x)<ε"
   ]
  },
  {
   "cell_type": "code",
   "execution_count": 4,
   "id": "2286976f",
   "metadata": {
    "ExecuteTime": {
     "end_time": "2022-03-30T16:25:53.480313Z",
     "start_time": "2022-03-30T16:25:53.477611Z"
    }
   },
   "outputs": [],
   "source": [
    "def s(x): \n",
    "    return \"--\" if x is None else str(x)"
   ]
  },
  {
   "cell_type": "markdown",
   "id": "5fff14cb",
   "metadata": {},
   "source": [
    "# Statistic Utilities"
   ]
  },
  {
   "cell_type": "code",
   "execution_count": 5,
   "id": "3f8d5de7",
   "metadata": {
    "ExecuteTime": {
     "end_time": "2022-03-30T16:25:57.165756Z",
     "start_time": "2022-03-30T16:25:53.481007Z"
    }
   },
   "outputs": [
    {
     "data": {
      "image/png": "[encoded data removed]",
      "text/plain": [
       "<Figure size 432x288 with 1 Axes>"
      ]
     },
     "metadata": {
      "needs_background": "light"
     },
     "output_type": "display_data"
    }
   ],
   "source": [
    "from scipy.stats import beta\n",
    "random.seed(0)\n",
    "\n",
    "def rv(mean, var=0.05):\n",
    "    if isNearZero(var):\n",
    "        return mean\n",
    "    u = random.random()\n",
    "    Δ = mean*var\n",
    "    r = beta(5, 5, loc=mean-Δ, scale=2*Δ).ppf(u)\n",
    "    return round(r,2)\n",
    "\n",
    "random.seed(0)\n",
    "rv80 = [ rv(80) for i in range(10000) ]\n",
    "plt.hist(rv80, bins=20, density=True)\n",
    "\n",
    "X = np.linspace(70, 90, 100)\n",
    "Y = beta(5, 5, loc=80-0.05*80, scale=0.1*80).pdf(X)\n",
    "_ = plt.plot(X, Y, color='red')"
   ]
  },
  {
   "cell_type": "markdown",
   "id": "aec03aea",
   "metadata": {},
   "source": [
    "# Visualisation"
   ]
  },
  {
   "cell_type": "markdown",
   "id": "12b6e96b",
   "metadata": {},
   "source": [
    "[TOC](#Table-of-Contents)"
   ]
  },
  {
   "cell_type": "markdown",
   "id": "7ae3b5fd",
   "metadata": {},
   "source": [
    "This section provides two methods: \n",
    "\n",
    "`displayMap` takes a Network as parameter and creates a visual representation of the road network. This is useful to test\n",
    "the layout of a road network.\n",
    "\n",
    "`animate` takes two parameters: a recorder and a filename. After running a simulation it extracts the data from the recorder and creates an animated gif file of the \n",
    "simulation. \n",
    "\n",
    "The code given below can be safely ignored."
   ]
  },
  {
   "cell_type": "code",
   "execution_count": 6,
   "id": "3a78f25d",
   "metadata": {
    "ExecuteTime": {
     "end_time": "2022-03-30T16:25:57.188885Z",
     "start_time": "2022-03-30T16:25:57.167689Z"
    }
   },
   "outputs": [],
   "source": [
    "def createBackground(nw):\n",
    "\n",
    "        idata = np.zeros( (nw.height,nw.width,3), dtype=np.uint8 )\n",
    "\n",
    "        darkgreen =  (0, 128, 0)     # \"darkgreen\" \n",
    "        darkgray =   (80, 80, 80)    # \"darkgray\"\n",
    "        dirtywhite = (250, 250, 250) # \"white\" \n",
    "        dirtyblack = (20, 20, 20)    # \"black\"\n",
    "        \n",
    "        def fill(x0, x1, y0, y1, c):\n",
    "            nonlocal idata\n",
    "            for x in range(x0, x1+1):\n",
    "                for y in range(y0, y1+1):\n",
    "                    for i in range(3):\n",
    "                        # idata[y,x,i] = c[i]\n",
    "                        idata[nw.height-1-y,x,i] = c[i]\n",
    "            # plt.fill_between([x0, x1], [y0, y0], [y1, y1], color=c)\n",
    "        \n",
    "        def green(x0, x1, y0, y1):\n",
    "            fill(x0, x1, y0, y1, darkgreen)\n",
    "        def gray(x0, x1, y0, y1):\n",
    "            fill(x0, x1, y0, y1, darkgray)\n",
    "        def white(x0, x1, y0, y1):\n",
    "            fill(x0, x1, y0, y1, dirtywhite)\n",
    "        def black(x0, x1, y0, y1):\n",
    "            fill(x0, x1, y0, y1, dirtyblack)\n",
    "        def tl_red(x0, y0):\n",
    "            fill(x0, x0+1, y0, y0+1, (255,0,0))\n",
    "        def tl_green(x0, y0):\n",
    "            fill(x0, x0+1, y0, y0+1, (0,255,0))\n",
    "        def tl_yellow(x0, y0):\n",
    "            fill(x0, x0+1, y0, y0+1, (255,255,0))\n",
    "        \n",
    "        def dline(x0, x1, y0, y1):\n",
    "            nonlocal idata\n",
    "            if y0==y1:  # horizontal line\n",
    "                for x in range(x0, x1+1):\n",
    "                    if (x//4)%2==0:\n",
    "                        for i in range(3):\n",
    "                            idata[nw.height-1-y0, x, i] = dirtywhite[i]  \n",
    "            elif x0==x1: # vertical line:\n",
    "                for y in range(y0, y1+1):\n",
    "                    if (y//4)%2==0:\n",
    "                        for i in range(3):\n",
    "                            idata[nw.height-1-y, x0, i] = dirtywhite[i]  \n",
    "        \n",
    "        def fline(x0, x1, y0, y1):\n",
    "            nonlocal idata\n",
    "            if y0==y1:  # horizontal line\n",
    "                for x in range(x0, x1+1):\n",
    "                    for i in range(3):\n",
    "                        idata[nw.height-1-y0, x, i] = dirtywhite[i]\n",
    "            elif x0==x1: # vertical line:\n",
    "                for y in range(y0, y1+1):\n",
    "                    for i in range(3):\n",
    "                        idata[nw.height-1-y, x0, i] = dirtywhite[i]\n",
    "            else:\n",
    "                raise ValueError(\"Illegal fline\")\n",
    "                \n",
    "        green(0, nw.width-1, 0, nw.height-1)\n",
    "        LW = nw.LW\n",
    "        SL = nw.SL\n",
    "        \n",
    "        for X in nw.intersections.values():\n",
    "            if not X.crossRoadIsThroughRoad(EAST) and \\\n",
    "                    not X.crossRoadIsThroughRoad(NORTH):\n",
    "                gray(X.x-LW, X.x+LW, X.y-LW, X.y+LW)  \n",
    "                        \n",
    "        for r in nw.getRoads(NORTH_SOUTH):\n",
    "                   for s in r.segments:\n",
    "                            begin = nw.height-1 if s.begin is None else s.begin.y-LW\n",
    "                            end = 0 if s.end is None else s.end.y+LW\n",
    "                            gray(r.x-LW, r.x+LW, end, begin)\n",
    "                            center = (begin+end)//2\n",
    "                            if s.giveWaySOUTH:\n",
    "                                dline(r.x, r.x, end+SL, center)\n",
    "                                fline(r.x, r.x, end+1, end+SL)\n",
    "                                white(r.x, r.x+LW, end+1, end+2)\n",
    "                            else:\n",
    "                                dline(r.x, r.x, end, center)\n",
    "                            if s.giveWayNORTH:\n",
    "                                dline(r.x, r.x, center, begin-SL)\n",
    "                                fline(r.x, r.x, begin-SL, begin)\n",
    "                                white(r.x-LW, r.x, begin-1, begin)                               \n",
    "                            else:\n",
    "                                dline(r.x, r.x, center, begin)\n",
    "\n",
    "        for r in nw.getRoads(EAST_WEST):\n",
    "                    for s in r.segments:\n",
    "                            begin = nw.width-1 if s.begin is None else s.begin.x-LW\n",
    "                            end = 0 if s.end is None else s.end.x+LW\n",
    "                            gray(end, begin, r.y-LW, r.y+LW)\n",
    "                            center = (begin+end)//2\n",
    "                            if s.giveWayWEST:\n",
    "                                dline(end+SL, center, r.y, r.y)\n",
    "                                fline(end+1, end+SL, r.y, r.y)\n",
    "                                white(end+1, end+2, r.y-LW, r.y)\n",
    "                            else:\n",
    "                                dline(end, center, r.y, r.y)\n",
    "                            if s.giveWayEAST:\n",
    "                                dline(center, begin-SL, r.y, r.y)\n",
    "                                fline(begin-SL, begin, r.y, r.y)\n",
    "                                white(begin-1, begin, r.y, r.y+LW)                               \n",
    "                            else:\n",
    "                                dline(center, begin, r.y, r.y)    \n",
    "        return idata"
   ]
  },
  {
   "cell_type": "code",
   "execution_count": 7,
   "id": "bdec4dfd",
   "metadata": {
    "ExecuteTime": {
     "end_time": "2022-03-30T16:25:57.198046Z",
     "start_time": "2022-03-30T16:25:57.191811Z"
    }
   },
   "outputs": [],
   "source": [
    "from PIL import Image\n",
    "\n",
    "def displayMap(nw):\n",
    "        # was formerly a method in class network\n",
    "        idata = createBackground(nw)\n",
    "            \n",
    "        res = 100 # [dpi]\n",
    "        fig = plt.figure(dpi=res)\n",
    "        fig.set_figwidth(1.32*nw.width/res-0.226)\n",
    "        fig.set_figheight(1.32*nw.height/res-0.226)\n",
    "    \n",
    "        ax = plt.gca()\n",
    "        ax.axis('off')\n",
    "    \n",
    "        plt.xlim(0, nw.width-1)\n",
    "        plt.ylim(0, nw.height-1)\n",
    "\n",
    "        def flatten(l):\n",
    "            return [ (r,g,b) for row in l for [r,g,b] in row ]\n",
    "        \n",
    "        img = Image.new('RGB', (nw.width, nw.height))\n",
    "        img.putdata(flatten(idata.tolist()))\n",
    "        img2=img.transpose(Image.FLIP_TOP_BOTTOM)\n",
    "        plt.imshow(img2)"
   ]
  },
  {
   "cell_type": "code",
   "execution_count": 8,
   "id": "ea0a6a7c",
   "metadata": {
    "ExecuteTime": {
     "end_time": "2022-03-30T16:25:57.210368Z",
     "start_time": "2022-03-30T16:25:57.199055Z"
    }
   },
   "outputs": [],
   "source": [
    "from matplotlib.animation import FuncAnimation\n",
    "import copy\n",
    "from PIL import Image\n",
    "       \n",
    "       \n",
    "def animate(rec, filename, start_time=None, end_time=None):\n",
    "    \n",
    "    filename += \"_\"+VERSION+\".gif\"\n",
    "\n",
    "    background = createBackground(rec.network)\n",
    "    \n",
    "    data = rec.getData()\n",
    "    timerevents = data[data['event']=='timer']\n",
    "    \n",
    "    # vehicle visualisation size parameter\n",
    "    VL = rec.network.VL   # lengt\n",
    "    VW = rec.network.VW   # width\n",
    "    \n",
    "    height = rec.network.height\n",
    "    width = rec.network.width\n",
    "    \n",
    "    brightWhite = (255, 255, 255)\n",
    "    darkBlue = (0, 0, 180)\n",
    "    darkRed = (180, 0, 0)\n",
    "    darkgreen = (0, 200, 0)\n",
    "    orange = (200, 120, 0)\n",
    "    black = (0, 0, 0)\n",
    "    darkGray = (50, 50, 50)\n",
    "    \n",
    "    def flatten(l):\n",
    "        return [ (r,g,b) for row in l for [r,g,b] in row ]\n",
    "\n",
    "    def fill(idata, x0, x1, y0, y1, c):\n",
    "        \n",
    "        for x in range(max(x0,0), min(x1+1,width)):\n",
    "            for y in range(max(y0,0), min(y1+1,height)):\n",
    "                for i in range(3):\n",
    "                    idata[height-1-y,x,i] = c[i]\n",
    "    \n",
    "    def vehicle(idata, x, y, direction, color):\n",
    "        \n",
    "        VW = rec.network.VW\n",
    "        VL = rec.network.VL\n",
    "        x = int(round(x,0))\n",
    "        y = int(round(y,0))\n",
    "        \n",
    "        if color=='red':\n",
    "            color = darkRed\n",
    "        elif color=='blue':\n",
    "            color = darkBlue\n",
    "        elif color=='green':\n",
    "            color = darkgreen\n",
    "        elif color=='black':\n",
    "            color = black\n",
    "        elif color=='orange':\n",
    "            color = orange\n",
    "        else:\n",
    "            raise ValueError('undefined color:', color)\n",
    "        \n",
    "        if direction=='SOUTH':\n",
    "            fill(idata, x-VW//2, x+VW//2, y, y+VL-1, color)\n",
    "            fill(idata, x-VW//2, x-VW//2, y, y, brightWhite)\n",
    "            fill(idata, x+VW//2, x+VW//2, y, y, brightWhite)\n",
    "\n",
    "        elif direction=='NORTH':\n",
    "            fill(idata, x-VW//2, x+VW//2, y-VL+1, y, color)\n",
    "            fill(idata, x+VW//2, x+VW//2, y, y, brightWhite)\n",
    "            fill(idata, x-VW//2, x-VW//2, y, y, brightWhite)\n",
    "            \n",
    "        elif direction=='EAST':\n",
    "            fill(idata, x-VL+1, x, y-VW//2, y+VW//2, color)\n",
    "            fill(idata, x, x, y+VW//2, y+VW//2, brightWhite)\n",
    "            fill(idata, x, x, y-VW//2, y-VW//2, brightWhite)\n",
    "            \n",
    "        elif direction=='WEST':\n",
    "            fill(idata, x, x+VL-1, y-VW//2, y+VW//2, color)\n",
    "            fill(idata, x, x, y+VW//2, y+VW//2, brightWhite)\n",
    "            fill(idata, x, x, y-VW//2, y-VW//2, brightWhite)\n",
    "            \n",
    "        else:\n",
    "            raise ValueError('illegal direction')\n",
    "        \n",
    "    def snapshot(t):\n",
    "\n",
    "        # get a fresh copy of the background image\n",
    "        idata = copy.deepcopy(background)\n",
    "        print('.', end='')\n",
    " \n",
    "        current = timerevents[timerevents['t']==t]\n",
    "        vehicles = list(current['id'])\n",
    "        for id in vehicles:\n",
    "            v = current[current['id']==id]\n",
    "            x = v['x'].values[0]\n",
    "            y = v['y'].values[0]\n",
    "            d = v['dir'].values[0]\n",
    "            c = v['col'].values[0]\n",
    "            vehicle(idata, x, y, d, color=c)\n",
    "        \n",
    "\n",
    "        img = Image.new('RGB', (width, height))\n",
    "        # note flatten is the slowest operation \n",
    "        # it takes about 90% of the execution time of\n",
    "        # snapshot, around 60ms. However animation\n",
    "        # framework takes about 500ms per snapshot\n",
    "        img.putdata(flatten(idata.tolist()))\n",
    "        # img.show() \n",
    "        img2=img.transpose(Image.FLIP_TOP_BOTTOM)\n",
    "\n",
    "        plt.imshow(img2)\n",
    "        #plt.text(width-75, 10, f\"t={t:5.1f}s\", \n",
    "        #         color='white', size='xx-small')\n",
    " \n",
    "    res = 120 # [dpi]\n",
    "    fig = plt.figure(dpi=res)\n",
    "    fig.set_figwidth(rec.network.width//res)\n",
    "    fig.set_figheight(rec.network.height//res)\n",
    "    \n",
    "    ax = plt.gca()\n",
    "    ax.axis('off')\n",
    "    \n",
    "    plt.xlim(0, rec.network.width-1)\n",
    "    plt.ylim(0, rec.network.height-1)\n",
    "    \n",
    "    if start_time is None:\n",
    "        start_time = rec.startTime # timerevents['t'].min()\n",
    "        \n",
    "    if end_time is None:\n",
    "        end_time = rec.stopTime # timerevents['t'].max()\n",
    "        \n",
    "    Δt = rec.timeStep\n",
    "    \n",
    "    times = np.arange(start_time, end_time+Δt/2, Δt)\n",
    "    \n",
    "    # interval: update frequency in milliseconds\n",
    "    anim = FuncAnimation(fig, snapshot, repeat=True, repeat_delay=2000, \n",
    "                         frames=times,       \n",
    "                         interval=100) \n",
    "                \n",
    "    # extra args control how often the animation should be looped extra_args=['-loop','-1']\n",
    "    anim.save(filename, dpi=300, writer='imagemagick')\n",
    "    \n",
    "    print('done')"
   ]
  },
  {
   "cell_type": "markdown",
   "id": "1e5e7f34",
   "metadata": {
    "heading_collapsed": true
   },
   "source": [
    "# Road Network"
   ]
  },
  {
   "cell_type": "markdown",
   "id": "dffe76eb",
   "metadata": {
    "hidden": true
   },
   "source": [
    "[TOC](#Table-of-Contents)"
   ]
  },
  {
   "cell_type": "markdown",
   "id": "c632a5c4",
   "metadata": {
    "hidden": true
   },
   "source": [
    "A National Road goes straight in North-South direction through a town. It divides the town in two parts, the eastern Old Town and the western New Town. "
   ]
  },
  {
   "cell_type": "markdown",
   "id": "9296663b",
   "metadata": {
    "hidden": true
   },
   "source": [
    "- `St` for Street going in North-South direction\n",
    "- `Rd` for Roads going in East-West direction\n",
    "- `Bd` for Border denoting the limits of the drawing area\n",
    "- `N`, `S`, `E`, `W`, `M` stands for North, South, East, West and Main\n",
    "- Streets and Roads have two lanes marked by their direction:\n",
    "`WSt_Nbd` describes the North bound lane of West Street\n",
    "- Intersections are described by adding `x` and the name of the crossing street or road and an `i` or `o` indicating the point of entering *into* or coming *out of* the crossing, like `WSt_Nbd_xNRd_i`"
   ]
  },
  {
   "cell_type": "code",
   "execution_count": 9,
   "id": "5f76c2c0",
   "metadata": {
    "ExecuteTime": {
     "end_time": "2022-03-30T16:25:57.215176Z",
     "start_time": "2022-03-30T16:25:57.211650Z"
    },
    "hidden": true
   },
   "outputs": [],
   "source": [
    "# Global constants indicating main directions\n",
    "\n",
    "NORTH = \"NORTH\"\n",
    "SOUTH = \"SOUTH\"\n",
    "EAST = \"EAST\"\n",
    "WEST = \"WEST\"\n",
    "\n",
    "NORTH_SOUTH = 'NORTH-SOUTH'\n",
    "EAST_WEST = 'EAST-WEST'\n",
    "\n",
    "def left(direction):\n",
    "    if direction is NORTH:\n",
    "        return WEST\n",
    "    elif direction is SOUTH:\n",
    "        return EAST\n",
    "    elif direction is EAST:\n",
    "        return NORTH\n",
    "    elif direction is WEST:\n",
    "        return SOUTH\n",
    "    else:\n",
    "        raise ValueError(\"illegal direction: \"+direction)\n",
    "        \n",
    "def right(direction):\n",
    "    return opposite(left(direction))\n",
    "        \n",
    "def cross(direction):\n",
    "    if direction is NORTH_SOUTH:\n",
    "        return EAST_WEST\n",
    "    elif direction is EAST_WEST:\n",
    "        return NORTH_SOUTH\n",
    "    else:\n",
    "        raise ValueError(\"illegal direction: \"+direction)\n",
    "        \n",
    "def opposite(direction):\n",
    "    if direction is NORTH:\n",
    "        return SOUTH\n",
    "    elif direction is SOUTH:\n",
    "        return NORTH\n",
    "    elif direction is EAST:\n",
    "        return WEST\n",
    "    elif direction is WEST:\n",
    "        return EAST\n",
    "    else:\n",
    "        raise ValueError(\"illegal direction: \"+direction)\n",
    "        \n",
    "def mainDirection(direction):\n",
    "    if direction is NORTH or direction is SOUTH:\n",
    "        return NORTH_SOUTH\n",
    "    elif direction is EAST or direction is WEST:\n",
    "        return EAST_WEST\n",
    "    else:\n",
    "        raise ValueError(\"illegal direction: \"+direction)"
   ]
  },
  {
   "cell_type": "code",
   "execution_count": 10,
   "id": "5c01ebae",
   "metadata": {
    "ExecuteTime": {
     "end_time": "2022-03-30T16:25:57.219820Z",
     "start_time": "2022-03-30T16:25:57.217731Z"
    },
    "hidden": true
   },
   "outputs": [],
   "source": [
    "# Global constants indicating relative directions\n",
    "LEFT = \"LEFT\"\n",
    "RIGHT = \"RIGHT\"\n",
    "\n",
    "def look(leftOrRight, direction):\n",
    "    if leftOrRight is LEFT:\n",
    "        return left(direction)\n",
    "    elif leftOrRight is RIGHT:\n",
    "        return right(direction)\n",
    "    else:\n",
    "        raise ValueError(\"unexpected: \"+leftOrRight)"
   ]
  },
  {
   "cell_type": "markdown",
   "id": "63f8c57b",
   "metadata": {
    "hidden": true
   },
   "source": [
    "## Roads"
   ]
  },
  {
   "cell_type": "code",
   "execution_count": 11,
   "id": "195cecff",
   "metadata": {
    "ExecuteTime": {
     "end_time": "2022-03-30T16:25:57.229355Z",
     "start_time": "2022-03-30T16:25:57.221105Z"
    },
    "hidden": true
   },
   "outputs": [],
   "source": [
    "class Road:\n",
    "    def __init__(self, network, name, shortName, direction, coord):\n",
    "        \n",
    "        global NORTH_SOUTH, EAST_WEST\n",
    "        \n",
    "        self.network = network\n",
    "        self.name = name\n",
    "        self.shortName = shortName\n",
    "        self.segments = []\n",
    "        if direction == NORTH_SOUTH:\n",
    "            self.direction = NORTH_SOUTH\n",
    "            self.x = int(round(coord*network.width, 0))\n",
    "            self.y = None\n",
    "            self.length = network.height\n",
    "        elif direction == EAST_WEST:\n",
    "            self.direction = EAST_WEST\n",
    "            self.x = None\n",
    "            self.y = int(round(coord*network.height, 0))\n",
    "            self.length = network.width\n",
    "        else:\n",
    "            raise ValueError('illegal Road direction: '+direction)\n",
    "        network.roads.append(self)\n",
    "            \n",
    "    def __str__(self):\n",
    "        return self.name\n",
    "    \n",
    "    def getName(self):\n",
    "        return self.name\n",
    "    \n",
    "    def getShortName(self):\n",
    "        return self.shortName\n",
    "    \n",
    "    def getX(self):\n",
    "        if self.x is not None:\n",
    "            return self.x\n",
    "        else:\n",
    "            raise ValueError('illegal coordinate for: ', self.direction)\n",
    "            \n",
    "    def getY(self):\n",
    "        if self.y is not None:\n",
    "            return self.y\n",
    "        else:\n",
    "            raise ValueError('illegal coordinate for: ', self.direction)\n",
    "            \n",
    "    def addSegment(self, segment):\n",
    "        self.segments.append(segment)\n",
    "        \n",
    "    def getRoadSegment(self, x, y):\n",
    "        for s in self.segments:\n",
    "            if s.contains(x, y):\n",
    "                return s\n",
    "        return None\n",
    "    \n",
    "    def getLength(self):\n",
    "        return self.length\n",
    "    \n",
    "    def getIntersection(self, r):\n",
    "        return self.network.getIntersection(self, r)\n",
    "    \n",
    "    def getCrossRoads(self):\n",
    "        return self.network.getRoads(cross(self.direction))\n",
    "        \n",
    "    def getIntersections(self):\n",
    "        return [ self.getIntersection(r) \n",
    "                    for r in self.getCrossRoads() ]\n",
    "    \n",
    "    def getIntersectionPoints(self):\n",
    "        intersections = self.getIntersections()\n",
    "        if self.direction is NORTH_SOUTH:\n",
    "            return [ i.y for i in intersections]\n",
    "        else:  # EAST_WEST\n",
    "            return [ i.x for i in intersections]\n",
    "        \n",
    "    def freeDist(self, direction, r):\n",
    "        intersection = self.getIntersection(r)\n",
    "        queueLength = intersection.getQueueLength(direction)\n",
    "        s = intersection.stop(direction, queueLength)\n",
    "        if self.direction is NORTH_SOUTH:\n",
    "            y = s[1] if direction==NORTH else self.length-s[1]\n",
    "            return y\n",
    "        else:\n",
    "            x = s[0] if direction==EAST else self.length-s[0]\n",
    "            return x\n",
    "        \n",
    "    def freeDistance(self, direction):\n",
    "        crossRoads = self.getCrossRoads()\n",
    "        distances = [ self.freeDist(direction, r) \n",
    "                        for r in crossRoads ]\n",
    "        return min(distances)\n",
    "    \n",
    "    def getVehicles(self, direction):\n",
    "        acc = []\n",
    "        for v in self.network.rec.vehicles:\n",
    "            if v.road==self and v.direction==direction:\n",
    "                acc.append(v)\n",
    "        return acc"
   ]
  },
  {
   "cell_type": "markdown",
   "id": "58b7f76b",
   "metadata": {
    "hidden": true
   },
   "source": [
    "## Intersections"
   ]
  },
  {
   "cell_type": "code",
   "execution_count": 12,
   "id": "8618dcd7",
   "metadata": {
    "ExecuteTime": {
     "end_time": "2022-03-30T16:25:57.242729Z",
     "start_time": "2022-03-30T16:25:57.232881Z"
    },
    "hidden": true
   },
   "outputs": [],
   "source": [
    "class Intersection:\n",
    "    def __init__(self, network, rNS, rEW):\n",
    "        self.name = rNS.name + ' x ' + rEW.name\n",
    "        self.rNS = rNS\n",
    "        self.rEW = rEW\n",
    "        self.x = rNS.x\n",
    "        self.y = rEW.y\n",
    "        self.network = network\n",
    "        self.NE = None\n",
    "        self.NW = None\n",
    "        self.SE = None\n",
    "        self.SW = None \n",
    "        self.queues = { NORTH: None, EAST: None, SOUTH: None, WEST: None }\n",
    "        self.spots = { NORTH: [], EAST: [], SOUTH: [], WEST: [] }\n",
    "   \n",
    "    def __str__(self):\n",
    "        return self.name\n",
    "    \n",
    "    def centrePoint(self):\n",
    "        return (self.x, self.y)\n",
    "    \n",
    "    def crossRoad(self, incomingDirection):\n",
    "        if incomingDirection is NORTH or \\\n",
    "                incomingDirection is SOUTH:\n",
    "            return self.rEW\n",
    "        else:\n",
    "            return self.rNS\n",
    "        \n",
    "    def crossRoadIsThroughRoad(self, incomingDirection):\n",
    "        road = self.crossRoad(incomingDirection)\n",
    "        for s in road.segments:\n",
    "            if s.begin==self or s.end==self:\n",
    "                return False\n",
    "        return True\n",
    "                \n",
    "    def getQueueLength(self, incomingDirection):\n",
    "        queue = self.queues[incomingDirection]\n",
    "        if queue is None:\n",
    "            env = self.network.rec.env\n",
    "            queue = simpy.Resource(env, capacity=1)\n",
    "            self.queues[incomingDirection] = queue\n",
    "        return len(queue.queue)\n",
    "        \n",
    "    def request(self, incomingDirection):\n",
    "        env = self.network.rec.env\n",
    "        queue = self.queues[incomingDirection]\n",
    "        spots = self.spots[incomingDirection]\n",
    "        if queue is None:\n",
    "            queue = simpy.Resource(env, capacity=1)\n",
    "            self.queues[incomingDirection] = queue\n",
    "        request = queue.request()\n",
    "        if len(queue.queue)>=len(spots):\n",
    "            spots += [ simpy.Resource(env, capacity=1) ]\n",
    "            self.spots[incomingDirection] = spots\n",
    "        return request\n",
    "    \n",
    "    def release(self, incomingDirection, request):\n",
    "        queue = self.queues[incomingDirection]\n",
    "        queue.release(request)\n",
    "        \n",
    "    def getSpotRequest(self, incomingDirection, pos):\n",
    "        env = self.network.rec.env\n",
    "        spots = self.spots[incomingDirection]\n",
    "        while pos>=len(spots):\n",
    "            spots += [ simpy.Resource(env, capacity=1) ]\n",
    "            self.spots[incomingDirection] = spots\n",
    "        request = spots[pos].request()\n",
    "        return request\n",
    "        \n",
    "    def releaseSpot(self, incomingDirection, pos, request):\n",
    "        spots = self.spots[incomingDirection]\n",
    "        spots[pos].release(request)\n",
    "        \n",
    "    def stop(self, incomingDirection, queueLength):\n",
    "        LW = self.network.LW\n",
    "        dist = LW+4\n",
    "        if incomingDirection is NORTH:\n",
    "            return (self.x+LW/2, self.y-(queueLength+1)*dist)\n",
    "        elif incomingDirection is SOUTH:\n",
    "            return (self.x-LW/2, self.y+(queueLength+1)*dist)\n",
    "        elif incomingDirection is EAST:\n",
    "            return (self.x-(queueLength+1)*dist, self.y+LW/2)\n",
    "        elif incomingDirection is WEST:\n",
    "            return (self.x+(queueLength+1)*dist, self.y-LW/2)\n",
    "        "
   ]
  },
  {
   "cell_type": "markdown",
   "id": "e0e8f80f",
   "metadata": {
    "hidden": true
   },
   "source": [
    "## Road Segments"
   ]
  },
  {
   "cell_type": "code",
   "execution_count": 13,
   "id": "edbbc3b8",
   "metadata": {
    "ExecuteTime": {
     "end_time": "2022-03-30T16:25:57.248282Z",
     "start_time": "2022-03-30T16:25:57.243857Z"
    },
    "hidden": true
   },
   "outputs": [],
   "source": [
    "class RoadSegment:\n",
    "    def __init__(self, road, begin, end):        \n",
    "        if road.direction==NORTH_SOUTH:\n",
    "            self.direction = SOUTH\n",
    "            self.giveWayNORTH = begin is not None\n",
    "            self.giveWaySOUTH = end is not None\n",
    "        elif road.direction==EAST_WEST:\n",
    "            self.direction = WEST\n",
    "            self.giveWayEAST = begin is not None\n",
    "            self.giveWayWEST = end is not None\n",
    "        self.road = road\n",
    "        self.begin = road.network.getIntersection(road, begin)\n",
    "        self.end = road.network.getIntersection(road, end)\n",
    "        self.name = road.name + \"(\" + self.direction + \") [\"+str(begin)+\",\"+str(end)+\"]\"\n",
    "        road.addSegment(self)\n",
    "\n",
    "    def __str__(self):\n",
    "        return self.name\n",
    "    \n",
    "    def contains(self, x, y):\n",
    "        if self.road.direction is NORTH_SOUTH:\n",
    "            return min(begin.y, end.y) <= y <= max(begin.y, end.y) and \\\n",
    "                    self.road.x-LW <= x <= self.road.x+LW\n",
    "        elif self.road.direction is EAST_WEST:\n",
    "            return min(begin.x, end.x) <= x <= max(begin.x, end.x) and \\\n",
    "                    self.road.y-LW <= y <= self.road.y+LW\n",
    "        else:\n",
    "            raise ValueError('Illegal direction:', self.road.name)"
   ]
  },
  {
   "cell_type": "markdown",
   "id": "f69ba773",
   "metadata": {
    "hidden": true
   },
   "source": [
    "## Road Network"
   ]
  },
  {
   "cell_type": "code",
   "execution_count": 14,
   "id": "0d3e7327",
   "metadata": {
    "ExecuteTime": {
     "end_time": "2022-03-30T16:25:57.258778Z",
     "start_time": "2022-03-30T16:25:57.249597Z"
    },
    "hidden": true
   },
   "outputs": [],
   "source": [
    "class RoadNetwork:\n",
    "    def __init__(self, name, width, height, rec=None):\n",
    "        self.rec = rec\n",
    "        if rec is not None:\n",
    "            rec.network = self\n",
    "        self.name = name\n",
    "        self.width = width\n",
    "        self.height = height\n",
    "        self.roads = []\n",
    "        self.intersections = dict()\n",
    "        self.background = None\n",
    "            \n",
    "        self.LW = 8  # [m] lane width\n",
    "        self.SL = 40 # [m] length of keep clear line near crossing\n",
    "        self.VL = 10 # [m] enlarged length of a vehicle\n",
    "        self.VW = 4  # [m] enlarged width of a vehicle\n",
    "        \n",
    "    def addRoad(self, name, shortName, direction, coord):\n",
    "        for r in self.roads:\n",
    "            if name in [r.getName(), r.getShortName()]:\n",
    "                raise ValueError(\"Road name re-used: \", name)\n",
    "            if shortName in [r.getName(), r.getShortName()]:\n",
    "                raise ValueError(\"Road name re-used: \", shortName)\n",
    "        r = Road(self, name, shortName, direction, coord)\n",
    "        return r\n",
    "        \n",
    "    def getRoads(self, direction):\n",
    "        return [ r for r in self.roads if r.direction is direction ]\n",
    "    \n",
    "    def getRoad(self, name):\n",
    "        for r in self.roads:\n",
    "            if r.name == name  or r.shortName == name:\n",
    "                return r\n",
    "        return None\n",
    "\n",
    "    def getIntersection(self, r1, r2):\n",
    "        if r1 is None or r2 is None:\n",
    "            return None\n",
    "        if type(r1) is str:\n",
    "            r1 = self.getRoad(r1)\n",
    "        if type(r2) is str:\n",
    "            r2 = self.getRoad(r2)\n",
    "        if r1.network is not self or r2.network is not self:\n",
    "            raise ValueError('intersection roads from different networks')\n",
    "        rNS, rEW = (r1, r2) if r1.direction is NORTH_SOUTH else (r2, r1)\n",
    "        if rNS.direction is not NORTH_SOUTH or \\\n",
    "                rEW.direction is not EAST_WEST:\n",
    "            raise ValueError('problem with intersection:', rNS.name, rEW.name)\n",
    "        name = rNS.name + ' x ' + rEW.name  \n",
    "        if name not in self.intersections:\n",
    "            intersection = Intersection(self, rNS, rEW)\n",
    "            self.intersections[name] = intersection\n",
    "        return self.intersections[name]\n",
    "    \n",
    "    def getIntersectionByName(self, name):\n",
    "        if name in self.intersections:\n",
    "            return self.intersections[name]\n",
    "        else:\n",
    "            return None"
   ]
  },
  {
   "cell_type": "markdown",
   "id": "6dd0f567",
   "metadata": {},
   "source": [
    "# Vehicles"
   ]
  },
  {
   "cell_type": "markdown",
   "id": "8bf3e81f",
   "metadata": {},
   "source": [
    "[TOC](#Table-of-Contents)"
   ]
  },
  {
   "cell_type": "markdown",
   "id": "aa2613b0",
   "metadata": {},
   "source": [
    "### Calculating the emergency brake decelleration rate using the following formula:\n",
    "Subtract the square of the final speed from the square of the initial speed. Divide by two times the distance\n",
    "Source: https://sciencing.com/calculate-deceleration-6081657.html"
   ]
  },
  {
   "cell_type": "code",
   "execution_count": 15,
   "id": "f80a8b6a",
   "metadata": {},
   "outputs": [],
   "source": [
    "decelleration_rate = ((0*0) - (50*50)) / (1000*2) # 50 is the local road max speed."
   ]
  },
  {
   "cell_type": "code",
   "execution_count": 16,
   "id": "adb1aea3",
   "metadata": {},
   "outputs": [
    {
     "name": "stdout",
     "output_type": "stream",
     "text": [
      "-1.25\n"
     ]
    }
   ],
   "source": [
    "print(decelleration_rate)"
   ]
  },
  {
   "cell_type": "markdown",
   "id": "3df041f3",
   "metadata": {},
   "source": [
    "### Calculating the avergage deceleration rate of a car whilst coasting, aka the acceleration pedal is not being engaged.\n",
    "We caculate this by assuming natural decelleration is roughly 35% of engaged deceleration.\n",
    "<h4> Assumption </h4>"
   ]
  },
  {
   "cell_type": "code",
   "execution_count": 17,
   "id": "3c75bf97",
   "metadata": {},
   "outputs": [],
   "source": [
    "coast_rate = decelleration_rate * .35"
   ]
  },
  {
   "cell_type": "code",
   "execution_count": 18,
   "id": "7687ea6e",
   "metadata": {},
   "outputs": [
    {
     "name": "stdout",
     "output_type": "stream",
     "text": [
      "-0.4375\n"
     ]
    }
   ],
   "source": [
    "print(coast_rate)"
   ]
  },
  {
   "cell_type": "code",
   "execution_count": 19,
   "id": "020d5072",
   "metadata": {
    "ExecuteTime": {
     "end_time": "2022-03-30T16:25:57.262004Z",
     "start_time": "2022-03-30T16:25:57.259739Z"
    }
   },
   "outputs": [],
   "source": [
    "# emergency brake decelleration \n",
    "A_BRAKE = decelleration_rate # [m/s²]   \n",
    "\n",
    "# average decelleration when using engine braking\n",
    "A_COAST = coast_rate # [m/s²]    \n",
    "\n",
    "# max accelleration depending on car class\n",
    "#  2.5 m/s² corresponds to 0-100km/h on 11s\n",
    "A_MAX =  2.5 # [m/s²]   "
   ]
  },
  {
   "cell_type": "code",
   "execution_count": 20,
   "id": "87db2e6e",
   "metadata": {
    "ExecuteTime": {
     "end_time": "2022-03-30T16:25:57.264544Z",
     "start_time": "2022-03-30T16:25:57.262750Z"
    }
   },
   "outputs": [],
   "source": [
    "def brakingDistance(v):\n",
    "        Δt = -v/A_BRAKE\n",
    "        return -A_BREAK/2*Δt**2"
   ]
  },
  {
   "cell_type": "code",
   "execution_count": 21,
   "id": "ca73ae24",
   "metadata": {
    "ExecuteTime": {
     "end_time": "2022-03-30T16:25:57.267850Z",
     "start_time": "2022-03-30T16:25:57.265497Z"
    }
   },
   "outputs": [],
   "source": [
    "# time required to cross a distance under max acceleration\n",
    "# while not exceeding v_max\n",
    "def treq(dist, v_max, v0=0, a_max=A_MAX):\n",
    "    accTime = (v_max-v0) / a_max\n",
    "    accDist = v0+accTime + accTime**2*a_max/2\n",
    "    if accDist>dist:\n",
    "        return math.sqrt(2*dist/a_max)\n",
    "    else:\n",
    "        return accTime+(dist-accDist)/v_max"
   ]
  },
  {
   "cell_type": "code",
   "execution_count": 22,
   "id": "a2028eb0",
   "metadata": {
    "ExecuteTime": {
     "end_time": "2022-03-30T16:25:57.303751Z",
     "start_time": "2022-03-30T16:25:57.269070Z"
    },
    "code_folding": []
   },
   "outputs": [],
   "source": [
    "class Vehicle:\n",
    "    \n",
    "    def __init__(self, rec, road, direction,\n",
    "                 t0=0, v=0, a=0, \n",
    "                 vmax=None, vmax_var=0, color='red',\n",
    "                 plan=None):\n",
    "        \n",
    "        # the simulation wide vehicle registry is\n",
    "        # anchored in the recorder\n",
    "        self.id = rec.register(self)\n",
    "        \n",
    "        self.a_brake = A_BRAKE\n",
    "        self.a_coast = A_COAST\n",
    "        self.a_max = A_MAX\n",
    "\n",
    "        self.length = rec.network.VL # [m]  Length of the vehicle \n",
    "        \n",
    "        self.nomore_tolerance = 2 # [s]\n",
    "        self.time_tolerance = 5 # [s]\n",
    "        \n",
    "        ## if not None the preferred max free velocity\n",
    "        self.vmax = vmax\n",
    "        self.vmax_var = vmax_var\n",
    "        self.color = color\n",
    "        self.plan = plan\n",
    "        \n",
    "        self.env = rec.env\n",
    "        self.rec = rec\n",
    "\n",
    "        self.t0 = t0\n",
    "        self.road = road\n",
    "\n",
    "        # self.x0 and self.y0 [m] specify the position of the\n",
    "        # reference point in the front center of the vehicle \n",
    "        if direction==SOUTH: \n",
    "            self.direction = SOUTH\n",
    "            self.cos𝜑, self.sin𝜑 = 0, -1\n",
    "            self.x0 = road.x+rec.network.LW//2\n",
    "            self.y0 = rec.network.height-1\n",
    "\n",
    "        elif direction==NORTH:\n",
    "            self.direction = NORTH\n",
    "            self.cos𝜑, self.sin𝜑 = 0, +1\n",
    "            self.x0 = road.x-rec.network.LW//2\n",
    "            self.y0 = 0  \n",
    "\n",
    "        elif direction==EAST:\n",
    "            self.direction = EAST\n",
    "            self.cos𝜑, self.sin𝜑 = +1, 0\n",
    "            self.x0 = 0\n",
    "            self.y0 = road.y+rec.network.LW//2\n",
    "\n",
    "        elif direction==WEST:\n",
    "            self.direction = WEST\n",
    "            self.cos𝜑, self.sin𝜑 = -1, 0\n",
    "            self.x0 = rec.network.width-1\n",
    "            self.y0 = road.y-rec.network.LW//2\n",
    "        \n",
    "        else:\n",
    "            raise ValueError(\"illegal direction\", direction)\n",
    "\n",
    "        self.startPoint = (self.x0, self.y0)\n",
    "        self.dx0, self.dy0 = v*self.cos𝜑, v*self.sin𝜑\n",
    "        self.ddx0, self.ddy0 = a*self.cos𝜑, a*self.sin𝜑\n",
    "         \n",
    "        self.stopQueueReq = None  # request object for queueing at stop\n",
    "        self.positionInQueue = None\n",
    "        self.spotQueueReq = None # request for position in queue\n",
    "        \n",
    "        # trace flags\n",
    "        self.traceEvents = False\n",
    "        self.traceCrossing = False\n",
    "        self.traceAdjustVelocity = False\n",
    "        self.traceCruising = False\n",
    "        self.traceInterrupt = False\n",
    "        self.traceBraking = False\n",
    " \n",
    "        self.t_target = []\n",
    "        self.v_target = []\n",
    "        \n",
    "        # start process\n",
    "        self.running = False\n",
    "                \n",
    "        # Flags used for temporarily exclusive behaviour\n",
    "        # This flag is used to prevent interrupting\n",
    "        # braking for short distance moving\n",
    "        \n",
    "        self.braking = False\n",
    "        self.moving = False\n",
    "        # exclusive for stopping/crossing at intersection\n",
    "        self.stopping = False\n",
    "        self.patience = None\n",
    "                   \n",
    "        self.processRef = None\n",
    "        self.env.process(self.process())\n",
    "  \n",
    "    def __str__(self):\n",
    "        return f\"v{self.id:d}\"\n",
    "                      \n",
    "    def trace(self, message):\n",
    "        print(f\"t={self.t0:5,.1f}s \"\n",
    "              f\"x={self.x0:5,.1f}m y={self.y0:5,.1f}m \"\n",
    "              f\"v={self.v():4.1f}m/s v{self.id:02d} \"\n",
    "              f\"on {self.road.shortName:s}[{self.direction[0]:s}]\", \n",
    "              message)\n",
    "   \n",
    "    def Δs(self, P=None):\n",
    "        if P is None:\n",
    "            P = self.startPoint\n",
    "        return math.sqrt((self.x0-P[0])**2+(self.y0-P[1])**2)\n",
    "        \n",
    "    def setV(self, v):\n",
    "        self.dx0, self.dy0 = v*self.cos𝜑, v*self.sin𝜑\n",
    "        \n",
    "    def v(self):\n",
    "        return math.sqrt(self.dx0**2+self.dy0**2)\n",
    "    \n",
    "    def Δv(self, other):\n",
    "        return math.sqrt((self.dx0-other.dx0)**2+(self.dy0-other.dy0)**2)\n",
    "    \n",
    "    def setA(self, a):\n",
    "        self.ddx0, self.ddy0 = a*self.cos𝜑, a*self.sin𝜑\n",
    "        \n",
    "    def a(self):\n",
    "        return self.ddx0/self.cos𝜑 if self.cos𝜑!=0 else self.ddy0/self.sin𝜑\n",
    "    \n",
    "    # compute distance to the car in front\n",
    "    # i.e. distance between the front bumpers of both\n",
    "    # vehicles minus the car length of the car in the front\n",
    "    def dist(self, v):\n",
    "        if v is None:\n",
    "            return math.inf\n",
    "        else:\n",
    "            return self.Δs((v.x0, v.y0)) - v.length\n",
    "    \n",
    "    # returns the vehicle that is on the same road in the same\n",
    "    # direction directly in front\n",
    "    def vehicleInFront(self):\n",
    "        other = None\n",
    "        for v in self.rec.vehicles:\n",
    "            if v is not self and v.road == self.road and \\\n",
    "                    v.direction == self.direction:\n",
    "                if self.direction is NORTH and v.y0>self.y0:\n",
    "                    if other is None or v.y0<other.y0: other = v                      \n",
    "                elif self.direction is SOUTH and v.y0<self.y0:\n",
    "                    if other is None or v.y0>other.y0: other = v                        \n",
    "                elif self.direction is EAST and v.x0>self.x0:\n",
    "                    if other is None or v.x0<other.x0: other = v                        \n",
    "                elif self.direction is WEST and v.x0<self.x0:\n",
    "                    if other is None or v.x0>other.x0: other = v                        \n",
    "        return other\n",
    "        \n",
    "    # updates (vectorised) position and speed\n",
    "    def update(self):\n",
    "        t = self.env.now\n",
    "        if t < self.t0 or not self.running:\n",
    "            return False\n",
    "\n",
    "        if t > self.t0:\n",
    "            Δt = t - self.t0\n",
    "            Δdx = self.ddx0*Δt\n",
    "            Δdy = self.ddy0*Δt\n",
    "            Δx = self.dx0*Δt + self.ddx0*Δt*Δt/2\n",
    "            Δy = self.dy0*Δt + self.ddy0*Δt*Δt/2\n",
    "            self.t0 = t \n",
    "            self.x0, self.y0 = self.x0+Δx, self.y0+Δy \n",
    "            self.dx0, self.dy0 = self.dx0+Δdx, self.dy0+Δdy\n",
    "            \n",
    "            # stop when leaving the area of the current network\n",
    "            if self.x0<0 or self.x0>self.rec.network.width or \\\n",
    "                self.y0<0 or self.y0>self.rec.network.height:\n",
    "                self.running = False\n",
    "        return True\n",
    "        \n",
    "    # frequent periodic status check controlled by Recorder\n",
    "    # triggers emergency action in the vehicle process\n",
    "    def checkStatus(self):\n",
    "        inFront = self.vehicleInFront()\n",
    "        # if there is a vehicle in front which drives slower and\n",
    "        # the distance to that vehicle in front is at current speed\n",
    "        # less than the critical time tolerance of this driver\n",
    "        if inFront is not None and \\\n",
    "                not self.braking and \\\n",
    "                not self.moving and \\\n",
    "                not self.stopping and \\\n",
    "                inFront.v() < self.v() and \\\n",
    "                self.dist(inFront)-self.length < self.time_tolerance*self.Δv(inFront): \n",
    "            # action is required\n",
    "            # note that Δv is positive and self.a_coast is negative \n",
    "            Δv = self.Δv(inFront)\n",
    "            Δs = self.dist(inFront)\n",
    "            if -Δv**2/self.a_coast < Δs/2:\n",
    "                Δt = -self.Δv(inFront)/self.a_coast\n",
    "            else:\n",
    "                Δt = -self.Δv(inFront)/self.a_brake\n",
    "            self.setTarget(Δt, inFront.v())\n",
    "     \n",
    "    # allows setting of control parameters \n",
    "    # from an independent process\n",
    "    def setTarget(self, t, v):\n",
    "        self.t_target = [ t ] + self.t_target\n",
    "        self.v_target = [ v ] + self.v_target\n",
    "        self.interruptProcess()\n",
    "      \n",
    "    # defines the life cycle of a vehicle\n",
    "    def process(self):\n",
    "\n",
    "        # delay start to the given time t\n",
    "        if self.t0>self.env.now:\n",
    "            yield self.env.timeout(self.t0-self.env.now)\n",
    "\n",
    "        self.t0 = self.env.now\n",
    "        self.running = True\n",
    "        self.rec.startRecording(self)\n",
    "        \n",
    "        while self.update():\n",
    "\n",
    "            inFront = self.vehicleInFront()\n",
    "            \n",
    "            # if the car in front is slower and we are a bit too near on its heals...\n",
    "            if inFront is not None and \\\n",
    "                    not self.braking and not self.moving and \\\n",
    "                    inFront.v() < self.v() and \\\n",
    "                    self.dist(inFront)-self.length < \\\n",
    "                        self.nomore_tolerance*self.Δv(inFront):\n",
    "                yield from self.emergencyBraking(inFront.v())\n",
    "                if not isNearZero(self.v()-inFront.v()):\n",
    "                    # after emergency breaking adjust to the speed of the car in front...\n",
    "                    Δt = 1\n",
    "                    Δv = inFront.v()-self.v()\n",
    "                    yield from self.adjustVelocity(Δv, Δt)\n",
    "                continue \n",
    "            \n",
    "            if self.plan is not None and len(self.plan)>0:\n",
    "                \n",
    "                command = self.plan[0]\n",
    "                split = command.find('@')\n",
    "                if split<0:\n",
    "                    action = command\n",
    "                    position = \"\"\n",
    "                elif 0 < split < len(command)-1:\n",
    "                    action = command[:split]\n",
    "                    position = command[split+1:]            \n",
    "                else:\n",
    "                    continue\n",
    "                    \n",
    "                if action == \"Stop\":\n",
    "                    intersection = self.road.getIntersection(position)\n",
    "                    if intersection is None:\n",
    "                        raise ValueError(f\"unknown position {position:s}\")\n",
    "                    if self.stopQueueReq is None:\n",
    "                        self.stopQueueReq = intersection.request(self.direction)\n",
    "                        inFront = self.vehicleInFront()\n",
    "                        if inFront is None or inFront.positionInQueue is None or \\\n",
    "                            self.dist(inFront)>self.Δs(intersection.centrePoint()):\n",
    "                            self.positionInQueue = intersection.getQueueLength(self.direction)\n",
    "                        else:\n",
    "                            self.positionInQueue = inFront.positionInQueue+1\n",
    "                    self.stopping = True\n",
    "                    if self.traceCrossing:\n",
    "                        self.trace(f\"registered {self.positionInQueue:d}\")\n",
    "                    self.rec.record(self, \"queue\")\n",
    "                    self.spotQueueReq = intersection.getSpotRequest(self.direction, self.positionInQueue)\n",
    "\n",
    "                    stopPoint = intersection.stop(self.direction, self.positionInQueue)\n",
    "                    distance = self.Δs(stopPoint)\n",
    "                    if isNearZero(self.v()):\n",
    "                        self.move(distance)\n",
    "                    else:\n",
    "                        Δt_coast = -self.v()/self.a_coast\n",
    "                        Δs_coast = -self.a_coast/2*Δt_coast**2\n",
    "                        Δs_cont = distance-Δs_coast\n",
    "                        Δt_cont = Δs_cont/self.v()\n",
    "                        if Δt_cont>0:\n",
    "                            # cruising for Δt_cont over Δs_cont  \n",
    "                            yield from self.continueAtSameSpeed(Δt_cont)\n",
    "                            # coasting to stop\n",
    "                            yield from self.adjustVelocity(-self.v(), Δt_coast)\n",
    "                        else:\n",
    "                            Δt = 2*distance/self.v()\n",
    "                            yield from self.adjustVelocity(-self.v(), Δt)\n",
    "                    # stopped at the end of the queue...\n",
    "                    yield self.spotQueueReq\n",
    "\n",
    "                    while self.positionInQueue>0:\n",
    "                        \n",
    "                        nextReq = intersection.getSpotRequest(self.direction, self.positionInQueue-1)\n",
    "                        yield nextReq\n",
    "                        \n",
    "                        stopPoint = intersection.stop(self.direction, self.positionInQueue-1)\n",
    "                        yield from self.move(self.Δs(stopPoint))\n",
    "                        \n",
    "                        intersection.releaseSpot(self.direction, self.positionInQueue, self.spotQueueReq)\n",
    "                        self.spotQueueReq = nextReq\n",
    "                        self.positionInQueue -= 1\n",
    "                        \n",
    "                    # vehicle is now at top of the queue\n",
    "                    self.stopping = False\n",
    "                    self.plan = self.plan[1:]\n",
    "                    continue\n",
    "                    \n",
    "                elif action == 'X':  # cross the intersection\n",
    "                    intersection = self.road.getIntersection(position)\n",
    "                    if intersection is None:\n",
    "                        raise ValueError(f\"unknown position {position:s}\")\n",
    "                    crossRoad = intersection.crossRoad(self.direction)\n",
    "                    crossingDist = 2*self.rec.network.LW+self.length\n",
    "                    crossingTime = treq(crossingDist, self.vmax, \n",
    "                                        v0=self.v(), a_max=self.a_max)\n",
    "                    \n",
    "                    if intersection.crossRoadIsThroughRoad(self.direction):\n",
    "                        Δt = min(self.nextCrossTraffic(intersection, self.direction, RIGHT),\n",
    "                                 self.nextCrossTraffic(intersection, self.direction, LEFT))\n",
    "                        if Δt>crossingTime+2:\n",
    "                            # Enough time for crossing\n",
    "                            self.accelerateAndCruise(crossingTime)\n",
    "                            self.rec.record(self, \"dequeue\")\n",
    "                            intersection.releaseSpot(self.direction, 0, self.spotQueueReq)\n",
    "                            intersection.release(self.direction, self.stopQueueReq)\n",
    "                            self.stopQueueReq = None\n",
    "                            self.plan = self.plan[1:]\n",
    "                            continue\n",
    "                            \n",
    "                        else:\n",
    "                            # wait for cross traffic to pass...\n",
    "                            yield self.env.timeout(Δt+0.5)\n",
    "                            continue\n",
    "                                             \n",
    "            # cruise along with potentially slightly modified speed\n",
    "            elif self.vmax is not None:\n",
    "                # as long there is no vehicle in front or the vehicle in front\n",
    "                # is far enough ahead adjust to random speed around vmax\n",
    "                if inFront is None or \\\n",
    "                    self.time_tolerance*self.Δv(inFront) < self.dist(inFront):\n",
    "                    vmax = rv(self.vmax, var=self.vmax_var)\n",
    "                    yield from self.adjustVelocity(vmax-self.v(), 5)\n",
    "                else:\n",
    "                    self.setA(0)\n",
    "                    yield self.env.timeout(self.rec.timeStep)\n",
    "            else:\n",
    "                self.setA(0)\n",
    "                yield self.env.timeout(self.rec.timeStep)\n",
    "\n",
    "                \n",
    "        self.rec.stopRecording(self)\n",
    "\n",
    "    # check if the vehicle is approaching the intersection\n",
    "    # from the given direction or if it hasn't yet crossed \n",
    "    # the intersection completely\n",
    "    def approaching(self, intersection, direction):\n",
    "        LW = self.rec.network.LW\n",
    "        if direction is SOUTH:\n",
    "            return self.y0+self.length>intersection.y-LW\n",
    "        elif direction is NORTH:\n",
    "            return self.y0-self.length<intersection.y+LW\n",
    "        elif direction is EAST:\n",
    "            return self.x0+self.length<intersection.x+LW\n",
    "        elif direction is WEST:\n",
    "            return self.x0-self.length>intersection.x-LW       \n",
    "    \n",
    "    # estimates the time that approaching vehicle takes to\n",
    "    # cross the intersection completely\n",
    "    def crossingTime(self, intersection, direction):\n",
    "        LW = self.rec.network.LW\n",
    "        if direction is SOUTH:\n",
    "            dist = self.y0+self.length-(intersection.y-LW)\n",
    "        elif direction is NORTH:\n",
    "            dist = (intersection.y+LW)-(self.y0-self.length)\n",
    "        elif direction is EAST:\n",
    "            dist = (intersection.x+LW)-(self.x0+self.length)\n",
    "        elif direction is WEST:\n",
    "            dist = self.x0-self.length-(intersection.x-LW)\n",
    "        if self.a()<0:  \n",
    "            # assume decelerating to sto\n",
    "            tdec = -self.v()/self.a()\n",
    "            sdec = self.a()/2*tdec**2\n",
    "            return tdec+treq(dist-sdec, self.vmax, a_max=self.a_max)\n",
    "        else:  \n",
    "            # assume crossing at full speed\n",
    "            return treq(dist, self.vmax, v0=self.v(), a_max=self.a_max)\n",
    "        \n",
    "    # a vehicle from the incoming direction standing at \n",
    "    # an intersection and looking towards left or right,\n",
    "    # estimating the time until the next vehicle coming\n",
    "    # might cross its way\n",
    "    def nextCrossTraffic(self, intersection, \n",
    "                        incomingDirection, leftOrRight):\n",
    "        # self.trace(\"Waiting for Traffic from \"+leftOrRight)\n",
    "        crossroad = intersection.crossRoad(incomingDirection)\n",
    "        crossDir = opposite(look(leftOrRight, incomingDirection))\n",
    "        critTime = math.inf\n",
    "        critVehicle = None\n",
    "        for v in self.rec.vehicles:\n",
    "            if v.road==crossroad and \\\n",
    "                        v.direction==crossDir and \\\n",
    "                        v.approaching(intersection, crossDir):\n",
    "                time = v.crossingTime(intersection, crossDir)\n",
    "                if time<critTime:\n",
    "                    critTime = time\n",
    "                    critVehicle = v\n",
    "        # if critVehicle is not None:\n",
    "        #     critVehicle.trace(f\"next Cross Traffic at {critTime:4.1f}\")\n",
    "        return critTime\n",
    "\n",
    "    # decelerate as fast as possible to v\n",
    "    def emergencyBraking(self, v):       \n",
    "        if self.traceBraking:\n",
    "            self.trace(f\"Braking from v={self.v():4.1f}m/s to {v:4.1f}m/s\")\n",
    "        self.rec.record(self, 'brake')\n",
    "        self.setA(self.a_brake)\n",
    "        v = max(0, min(v, self.v()-2))\n",
    "        Δv = v-self.v()\n",
    "        Δt = max(0.5, Δv/self.a())\n",
    "        self.setA(Δv/Δt)\n",
    "        yield self.env.timeout(Δt)\n",
    "                \n",
    "        self.update()\n",
    "        self.setA(0)\n",
    "        self.rec.record(self, 'brake end')\n",
    "        if self.traceBraking:\n",
    "            self.trace(f\"Braking end  v={self.v():4.1f}m/s\")\n",
    "\n",
    "    def stop(self, Δs):\n",
    "        self.update()\n",
    "        D = -2\n",
    "        A = 4\n",
    "        v0 = self.v()\n",
    "        sd, td = v0**2/(-2*D), -v0/D\n",
    "        # solve quadratic equation\n",
    "        a, b, c = A/2-A**2/(2*D), v0*(1-A/D), Δs-sd\n",
    "        if c<0:\n",
    "            A = -0.5*v0**2/Δs\n",
    "            Δt = 2*Δs/v0\n",
    "            self.setA(A)\n",
    "            yield self.env.timeout(Δt)\n",
    "            self.update()\n",
    "        else:\n",
    "            r = math.sqrt(b**2+4*a*c)  \n",
    "            x1 = (-b+r)/(2*a)\n",
    "            t1, t2 = x1, -A/D*x1  \n",
    "            # phase 1: accelerate\n",
    "            self.setA(A)\n",
    "            yield self.env.timeout(t1)\n",
    "            self.update()\n",
    "            # phase 2: decelerate\n",
    "            self.setA(D)\n",
    "            yield self.env.timeout(t2+td)\n",
    "            self.update()\n",
    "        self.setV(0)\n",
    "        self.setA(0)\n",
    "        \n",
    "    # move a short distance in a queue using only marginal \n",
    "    # acceleration and deceleration \n",
    "    def move(self, Δs):\n",
    "        a = 2 # [m/s²]    \n",
    "        self.setA(a)\n",
    "        Δt = math.sqrt(Δs/a)\n",
    "        yield self.env.timeout(Δt)\n",
    "        self.update()\n",
    "        self.setA(-a)\n",
    "        yield self.env.timeout(Δt)\n",
    "        self.update()\n",
    "        self.setV(0)\n",
    "        self.setA(0)\n",
    "  \n",
    "    # change velocity by Δv over the period Δt\n",
    "    def adjustVelocity(self, Δv, Δt):\n",
    "        self.update()            \n",
    "        if self.traceAdjustVelocity:\n",
    "            self.trace(f\"Adjusting Velocity from v={self.v():4,.1f}m/s by Δv={Δv:4,.1f}m/s over {Δt:4,.1f}s\")\n",
    "        self.setA(Δv/Δt)\n",
    "        yield self.env.timeout(Δt)\n",
    "        self.update()\n",
    "        self.setA(0)\n",
    "        if self.traceAdjustVelocity:\n",
    "            self.trace(f\"Adjusted  Velocity to   v={self.v():4,.1f}m/s\")\n",
    "          \n",
    "    def continueAtSameSpeed(self, Δt):\n",
    "        self.update()\n",
    "        # don't change the current velocity\n",
    "        self.setA(0)\n",
    "        if self.traceCruising:\n",
    "            self.trace(f\"Cruising at v={self.v():4,.1f}m/s for {Δt:4,.1f}s\")\n",
    "        yield self.env.timeout(Δt)\n",
    "        self.update()\n",
    "        if self.traceCruising:\n",
    "            self.trace(f\"End Cruising at v={self.v():4,.1f}m/s\")\n",
    "\n",
    "    def accelerateAndCruise(self, crossingTime):\n",
    "        crossV = crossingTime*self.a_max\n",
    "        if  crossV > self.vmax:\n",
    "            accT = (self.v_max-self.v())/self.a_max\n",
    "            yield from self.adjustVelocity(self.vmax,  accT)\n",
    "            yield from self.continueAtSameSpeed(crossingTime-accT)\n",
    "        else:\n",
    "            yield from self.adjustVelocity(crossV, crossingTime)\n",
    "                            \n",
    "    # interrupting a sub process\n",
    "    def interruptProcess(self):\n",
    "        #print(\"interrupting...\")\n",
    "        #traceback.print_stack(limit=5)\n",
    "        if self.processRef is not None and self.processRef.is_alive:\n",
    "            self.processRef.interrupt('There are more important things to do...')\n"
   ]
  },
  {
   "cell_type": "markdown",
   "id": "8c0e4ac8",
   "metadata": {
    "heading_collapsed": true
   },
   "source": [
    "# Recorder"
   ]
  },
  {
   "cell_type": "markdown",
   "id": "a6b1bb64",
   "metadata": {
    "hidden": true
   },
   "source": [
    "[TOC](#Table-of-Contents)"
   ]
  },
  {
   "cell_type": "code",
   "execution_count": 23,
   "id": "dc67ad89",
   "metadata": {
    "ExecuteTime": {
     "end_time": "2022-03-30T16:25:57.328000Z",
     "start_time": "2022-03-30T16:25:57.304716Z"
    },
    "hidden": true
   },
   "outputs": [],
   "source": [
    "class Recorder:\n",
    "    \n",
    "    def __init__(self, startTime=0, stopTime=0, timeStep=1):\n",
    "        \n",
    "        self.env = simpy.Environment()\n",
    "        self.network = None\n",
    "\n",
    "        self.startTime = startTime\n",
    "        self.stopTime = stopTime\n",
    "        self.timeStep = timeStep\n",
    "        \n",
    "        # list of all currently running vehicles\n",
    "        self.vehicles = []\n",
    "        \n",
    "        # list of all known vehicles (including those \n",
    "        # that haven't yet started and thosse that have already stopped\n",
    "        self.allVehicles = [] \n",
    "        \n",
    "        self.running = True\n",
    "    \n",
    "        cols=['t', 'x', 'y', 's', 'v', 'a',\n",
    "              'rd', 'dir', 'id', 'col', 'event', 'ql']\n",
    "        self.data = pd.DataFrame(columns=cols)\n",
    "        \n",
    "    def register(self, vehicle):\n",
    "        self.allVehicles.append(vehicle)\n",
    "        return len(self.allVehicles)\n",
    "        \n",
    "    # runs the simulation\n",
    "    def run(self):\n",
    "        self.env.process(self.process())\n",
    "        self.env.run(self.stopTime+self.timeStep)\n",
    "    \n",
    "    def process(self):\n",
    "        yield self.env.timeout(self.startTime-self.env.now)\n",
    "        while self.env.now <= self.stopTime:\n",
    "            if self.running:\n",
    "                self.record()     \n",
    "            yield self.env.timeout(self.timeStep)\n",
    "            \n",
    "    def startRecording(self, v):\n",
    "        self.vehicles.append(v)\n",
    "        self.record(vehicle=v, event='start')\n",
    "        \n",
    "    def stopRecording(self, v):\n",
    "        self.record(vehicle=v, event='end')\n",
    "        self.vehicles.remove(v)\n",
    "        \n",
    "    def record(self, vehicle=None, event='timer'):\n",
    "        if vehicle is not None:\n",
    "            v = vehicle\n",
    "            if v.update() or event!='timer':\n",
    "                ix = len(self.data)\n",
    "                ql = v.positionInQueue if event=='queue' else 0\n",
    "                self.data.loc[ix]=[self.env.now, \\\n",
    "                                   round(v.x0,2), round(v.y0,2), \\\n",
    "                                   round(v.Δs(v.startPoint),2), \\\n",
    "                                   round(v.v(),2), round(v.a(),2), \\\n",
    "                                   v.road.name, v.direction, \\\n",
    "                                   v.id, v.color, event, ql]\n",
    "                if event=='timer':\n",
    "                    v.checkStatus()\n",
    "        else:\n",
    "            for vehicle in self.vehicles:\n",
    "                self.record(vehicle, event)\n",
    "\n",
    "    def getData(self):\n",
    "        return self.data.copy(deep=True)\n",
    "    \n",
    "    def getEvents(self):\n",
    "        return self.data[self.data.event!='timer'].copy(deep=True)\n",
    "    \n",
    "    def selectData(self, roads, directions):\n",
    "        data = self.data\n",
    "        if roads is None:\n",
    "            roads = list(data.rd.unique())\n",
    "        else:\n",
    "            if type(roads) is str:\n",
    "                roads = [ roads ]\n",
    "            rds = list(data.rd.unique()) \n",
    "            roads = [ r for r in roads if r in rds ]\n",
    "        data = data[data.rd.isin(roads)]\n",
    "        \n",
    "        if directions is None:\n",
    "            directions = list(data.dir.unique())\n",
    "        else:\n",
    "            if type(directions) is str:\n",
    "                directions = [ directions ]\n",
    "            dirs = list(data.dir.unique()) \n",
    "            directions = [ d for d in directions if d in dirs ]\n",
    "        data = data[data.dir.isin(directions)]\n",
    "        return roads, directions, data    \n",
    "\n",
    "    def maxQueueLength(self, roads=None, directions=None):\n",
    "        _, _, data = self.selectData(roads, directions)\n",
    "        data = data[data.event=='queue']\n",
    "        if len(data)>0:\n",
    "            return data.ql.max()\n",
    "        else:\n",
    "            return 0\n",
    "\n",
    "    def maxWaitTime(self, roads=None, directions=None):\n",
    "        roads, directions, data = self.selectData(roads, directions)\n",
    "        d0 = data[data.event=='queue']\n",
    "        d1 = data[data.event=='dequeue']        \n",
    "        times = []\n",
    "        id0 = d0.id.unique()\n",
    "        id1 = d1.id.unique()\n",
    "        for id in id0:\n",
    "            if id in id1:\n",
    "                t0 = d0.t[d0.id==id].min()\n",
    "                t1 = d1.t[d1.id==id].max()\n",
    "                times += [ t1-t0 ]\n",
    "        if len(times)>0:\n",
    "            return round(max(times),2)\n",
    "        else:\n",
    "            return 0\n",
    "\n",
    "    def avgWaitTime(self, roads=None, directions=None):\n",
    "        roads, directions, data = self.selectData(roads, directions)\n",
    "        d0 = data[data.event=='queue']\n",
    "        d1 = data[data.event=='dequeue']        \n",
    "        times = []\n",
    "        id0 = d0.id.unique()\n",
    "        id1 = d1.id.unique()\n",
    "        for id in id0:\n",
    "            if id in id1:\n",
    "                t0 = d0.t[d0.id==id].min()\n",
    "                t1 = d1.t[d1.id==id].max()\n",
    "                times += [ t1-t0 ]\n",
    "        if len(times)>0:\n",
    "            return round(sum(times)/len(times), 2)\n",
    "        else:\n",
    "            return 0\n",
    "        \n",
    "    ## new code: computes the average travelling time in seconds\n",
    "    ## on a road in a given direction\n",
    "    def avgTravelTime(self, roads=None, directions=None):\n",
    "        roads, directions, data = self.selectData(roads, directions)\n",
    "        if len(roads)>1:\n",
    "            print(\"avg travelling time across different roads not defined\")\n",
    "            return 0\n",
    "        d0 = data[data.event=='start']\n",
    "        d1 = data[data.event=='end']\n",
    "        times = []\n",
    "        id0 = d0.id.unique()\n",
    "        id1 = d1.id.unique()\n",
    "        for id in id0:\n",
    "            if id in id1:\n",
    "                t0 = d0.t[d0.id==id].min()\n",
    "                t1 = d1.t[d1.id==id].max()\n",
    "                times += [ t1-t0 ]\n",
    "        if len(times)==0:\n",
    "            raise ValueError(\"No times measured\")\n",
    "        return round(sum(times)/len(times), 2)\n",
    "        \n",
    "    ## computes the average speed in km/h of cars travelling\n",
    "    ## on the given road in the given direction\n",
    "    def avgSpeed(self, roads=None, directions=None):\n",
    "        roads, _, _ = self.selectData(roads, directions)\n",
    "        if len(roads)>1:\n",
    "            raise ValueError(\"avgSpeed undefined for multiple roads\")\n",
    "        road = self.network.getRoad(roads[0])\n",
    "        t = self.avgTravelTime(roads=roads, directions=directions)\n",
    "        return round(3.6*road.getLength()/t, 2)\n",
    "                     \n",
    "    ## computes traffic flow in vehicles/h for a given road\n",
    "    ## and direction based on vehicles reaching the end of the road\n",
    "    def flow(self, roads=None, directions=None):\n",
    "        roads, directions, data = self.selectData(roads, directions)\n",
    "        df = data[data.event=='end']\n",
    "        if len(df)<=1:\n",
    "            raise ValueError('not enough data')\n",
    "        f = (len(df)-1)/(df.t.max()-df.t.min())*3600 # 1 hour and 45 minutes\n",
    "        return round(f, 2)\n",
    "\n",
    "    ## computes traffic density in vehicles/km for a given \n",
    "    ## road and direction at a given moment in time. \n",
    "    ## When no time is specified it returns a\n",
    "    ## list of traffic densities over time.\n",
    "    def density(self, roads=None, directions=None, \n",
    "                time=None, plot=False):\n",
    "        roads, directions, data = self.selectData(roads, directions)\n",
    "        if len(roads)>1 or len(directions)>1:\n",
    "            print(\"not yet implemented\")\n",
    "            return None\n",
    "        road = self.network.getRoad(roads[0])\n",
    "        timerEvents = data[data.event=='timer']\n",
    "        times = timerEvents.t.unique()\n",
    "        if len(times)<1:\n",
    "            raise ValueError('not enough data')\n",
    "        roadLength = road.getLength()\n",
    "\n",
    "        if time is None:\n",
    "            x, y = [], []\n",
    "            for t in times:\n",
    "                events = data[data.t==t]\n",
    "                # ignore the initial period before the first\n",
    "                # vehicle has nearly finished the course\n",
    "                if len(x)>0 or \\\n",
    "                        events.s.max()>0.9*roadLength:\n",
    "                    # cut-off overshooting events\n",
    "                    events = events[events.s<=roadLength]\n",
    "                    d = len(events)*1000/roadLength\n",
    "                    x.append(t)\n",
    "                    y.append(round(d,2))\n",
    "            μ = round(sum(y)/len(y),2)\n",
    "            if plot:\n",
    "                plt.figure(figsize=(5, 3), dpi=120)\n",
    "                plt.plot(x, y)\n",
    "                plt.xlabel('Time [s]')\n",
    "                plt.ylabel('Density [veh/km]')\n",
    "                plt.title(\"Traffic Density \"+roads[0]+\n",
    "                          \" \"+directions[0][0]+\"-bound\")\n",
    "                plt.xlim((self.startTime, self.stopTime))\n",
    "                ylim = plt.ylim()\n",
    "                plt.ylim((0, ylim[1]))\n",
    "                plt.axhline(y=μ, ls='--', c='red')\n",
    "                plt.grid(True)\n",
    "                plt.show()\n",
    "            return μ\n",
    "        \n",
    "        # find the timestamp nearest to the requested time\n",
    "        if time in times:\n",
    "            t = time\n",
    "        else:\n",
    "            # take the nearest point in time\n",
    "            diff = list((times-time)**2)\n",
    "            t = times[diff.index(min(diff))]\n",
    "        events = timerEvents[timerEvents.t==t]\n",
    "        d = len(events)*1000/roadLength\n",
    "        return round(d,2)\n",
    "        \n",
    "    def plot(self, x, y, \n",
    "             vehicles=None, roads=None, directions=None,\n",
    "             style='', lw=1, decoration=True,\n",
    "             x0=None, x1=None, y0=None, y1=None, fillColor=None, \n",
    "             xmin=None, xmax=None, ymin=None, ymax=None):\n",
    "        \n",
    "        columns = ['t', 's', 'v', 'a']\n",
    "        labels =  ['Time [s]', \n",
    "                   'Distance [m]', \n",
    "                   'Velocity [m/s]', \n",
    "                   'Acceleration [m/s²]']\n",
    "        try:\n",
    "            xindex = columns.index(x)\n",
    "            yindex = columns.index(y)\n",
    "        except ValueError: \n",
    "            print(f\"Supports only plots of 't', 's', 'v', 'a'\")\n",
    "            return\n",
    "\n",
    "        xcolix = list(self.data.columns).index(x)\n",
    "        ycolix = list(self.data.columns).index(y)\n",
    "        \n",
    "        plt.figure(figsize=(5, 3), dpi=120)\n",
    "        if xmin is not None and xmax is not None:\n",
    "            plt.xlim((xmin, xmax))\n",
    "        if ymin is not None and ymax is not None:\n",
    "            plt.ylim((ymin, ymax))\n",
    "        \n",
    "        roads, directions, data = self.selectData(roads, directions)\n",
    "            \n",
    "        if x=='t':\n",
    "            if xmin is None:\n",
    "                xmin = self.startTime\n",
    "            if xmax is None:\n",
    "                xmax = self.stopTime\n",
    "            plt.xlim((xmin, xmax))\n",
    "            \n",
    "        if len(roads)==1 and len(directions)==1:\n",
    "            plt.title(roads[0]+\" \"+directions[0][0]+\"-bound\")\n",
    "            road = self.network.getRoad(roads[0])\n",
    "            if x=='t' and y=='s':\n",
    "                if ymin is None:\n",
    "                    ymin = 0\n",
    "                if ymax is None:\n",
    "                    ymax = road.getLength()\n",
    "                plt.ylim((ymin, ymax))\n",
    "                # draw cross roads and traffic light status\n",
    "                intersections = road.getIntersections()\n",
    "                crossRoads = road.getIntersectionPoints()\n",
    "                for i in range(len(intersections)):\n",
    "                    name = intersections[i].name\n",
    "                    crossRoad = crossRoads[i]\n",
    "                    plt.axhline(y=crossRoad, ls='--', c='black')\n",
    "\n",
    "        if vehicles is None:\n",
    "            vehicles = list(data.id.unique())\n",
    "            \n",
    "        # if there are many lines to be drawn, use thin lines\n",
    "        if len(vehicles)>50:\n",
    "            lw = 0.5*lw\n",
    "            \n",
    "        for id in vehicles:\n",
    "            df = data[data.id==id]\n",
    "            colors = list(df.col.unique())\n",
    "            if len(colors)==1:\n",
    "                plt.plot(x, y, style, lw=lw, data=df, c=colors[0])\n",
    "            else:\n",
    "                plt.plot(x, y, style, lw=lw, data=df)\n",
    "            plt.xlabel(labels[xindex])\n",
    "            plt.ylabel(labels[yindex])\n",
    "            \n",
    "            # use small red circle to indicate emergency braking\n",
    "            dc = df[df.event=='brake']\n",
    "            for i in range(len(dc)):\n",
    "                X = dc.iloc[i, xcolix]\n",
    "                Y = dc.iloc[i, ycolix]\n",
    "                plt.plot([X], [Y], 'ro')               \n",
    "            db = df[df.event=='brake end']\n",
    "            for i in range(len(db)):\n",
    "                X = db.iloc[i, xcolix]\n",
    "                Y = db.iloc[i, ycolix]\n",
    "                plt.plot([X], [Y], marker='o', mec='r', fillstyle='none')\n",
    "                \n",
    "        # fill area with background color\n",
    "        if fillColor is not None:\n",
    "            if x0 is None:\n",
    "                x0=self.data[x].min()\n",
    "            if x1 is None:\n",
    "                x1=self.data[x].max()\n",
    "            if y0 is None:\n",
    "                y0=self.data[y].min()\n",
    "            if y1 is None:\n",
    "                y1=self.data[y].max()\n",
    "            plt.fill_between( [x0, x1], [y0, y0], [y1, y1], color=fillColor)\n",
    "            \n",
    "        plt.grid(True)\n",
    "        plt.show()"
   ]
  },
  {
   "cell_type": "markdown",
   "id": "90870e97",
   "metadata": {},
   "source": [
    "# Simulation"
   ]
  },
  {
   "cell_type": "markdown",
   "id": "e711985a",
   "metadata": {},
   "source": [
    "[TOC](#Table-of-Contents)"
   ]
  },
  {
   "cell_type": "markdown",
   "id": "fdf2a2f8",
   "metadata": {},
   "source": [
    "## Simulation Through Road "
   ]
  },
  {
   "cell_type": "markdown",
   "id": "97035324",
   "metadata": {},
   "source": [
    "[TOC](#Table-of-Contents)"
   ]
  },
  {
   "cell_type": "markdown",
   "id": "f32c8e12",
   "metadata": {},
   "source": [
    "### Code Crossing Through Road"
   ]
  },
  {
   "cell_type": "code",
   "execution_count": 24,
   "id": "c0074962",
   "metadata": {
    "ExecuteTime": {
     "end_time": "2022-03-30T16:25:57.335176Z",
     "start_time": "2022-03-30T16:25:57.329039Z"
    }
   },
   "outputs": [],
   "source": [
    "def CrossingThroughRoad(Tmax, \n",
    "                        VMAXmain, VMAXcross,\n",
    "                        IATmainN, IATmainS, IATcrossE, IATcrossW, \n",
    "                        loc=2, VMAX_VAR = 0, log=False, plot=False): # declared when commencing the simulation \n",
    "           \n",
    "    rec = Recorder(0, Tmax, 0.5)\n",
    "\n",
    "    network = RoadNetwork(\"Simple Crossing\", 1000, 1000, rec) # Controls the size of the road network.\n",
    "    MSt = network.addRoad(\"Main St\",  \"MSt\", NORTH_SOUTH, 0.5)\n",
    "    RoadSegment(MSt, None, None)\n",
    "    CRd = network.addRoad(\"Cross Rd\", \"CRd\", EAST_WEST, 0.6)\n",
    "    RoadSegment(CRd, None, MSt)\n",
    "    RoadSegment(CRd, MSt, None)\n",
    "    \n",
    "    displayMap(network)\n",
    "\n",
    "    seeds = random.sample(range(1000), k=5)\n",
    "\n",
    "    ## Generate Main Traffic - generating a number of cars\n",
    "    random.seed(seeds[0])\n",
    "    iats = [ loc + random.expovariate(1/(IATmainS-loc)) \n",
    "                for i in range(int(Tmax/IATmainS)) ]\n",
    "    t = 0\n",
    "    for Δt in iats:\n",
    "        vmax = VMAXmain\n",
    "        t = round(t+Δt,2)\n",
    "        v = Vehicle(rec, MSt, SOUTH, t0=t, v=vmax, vmax=vmax, \n",
    "                    color='black')\n",
    "\n",
    "    random.seed(seeds[1])\n",
    "    iats = [ loc + random.expovariate(1/(IATmainN-loc)) \n",
    "                for i in range(int(Tmax/IATmainN)) ]\n",
    "    t=0\n",
    "    for Δt in iats:\n",
    "        vmax = VMAXmain\n",
    "        t =round(t+Δt,2)\n",
    "        v = Vehicle(rec, MSt, NORTH, t0=t, v=vmax, vmax=vmax, \n",
    "                    color='orange')\n",
    "\n",
    "    ## Generate Cross Traffic\n",
    "    random.seed(seeds[2])\n",
    "    iats = [ loc + random.expovariate(1/(IATcrossE-loc)) \n",
    "                for i in range(int(Tmax/IATcrossE)) ] \n",
    "    t = 0\n",
    "    for Δt in iats:\n",
    "        vmax = VMAXcross\n",
    "        t =round(t+Δt,2)\n",
    "        v = Vehicle(rec, CRd, EAST, t0=t, v=vmax, vmax=vmax, \n",
    "                    color='red', plan=['Stop@MSt', 'X@MSt'])\n",
    "        # v.traceEvents = True\n",
    "        # v.traceCrossing = True\n",
    "        # v.traceInterrupt = True\n",
    "        # v.traceAdjustVelocity = True\n",
    "        # v.traceCruising = True\n",
    "        \n",
    "    random.seed(seeds[3])\n",
    "    iats = [ loc + random.expovariate(1/(IATcrossW-loc)) \n",
    "                for i in range(int(Tmax/IATcrossW)) ] \n",
    "    t=0\n",
    "    for Δt in iats:\n",
    "        vmax = VMAXcross\n",
    "        t =round(t+Δt,2)\n",
    "        v = Vehicle(rec, CRd, WEST, t0=t, v=vmax, vmax=vmax, \n",
    "                    color='blue', plan=['Stop@MSt', 'X@MSt'])\n",
    "        # v.traceCrossing = True\n",
    "\n",
    "    random.seed(seeds[4])\n",
    "    rec.run()\n",
    "        \n",
    "    return rec"
   ]
  },
  {
   "cell_type": "markdown",
   "id": "abe19203",
   "metadata": {},
   "source": [
    "### Simulation 1 Rush Period Main and Local Road"
   ]
  },
  {
   "cell_type": "markdown",
   "id": "36d88bb5",
   "metadata": {},
   "source": [
    "[TOC](#Table-of-Contents)"
   ]
  },
  {
   "cell_type": "markdown",
   "id": "ab64f822",
   "metadata": {},
   "source": [
    "<h4> Simulation 1: Rush Period Main and Local Road </h4>\n",
    "<p>The below simulation runs for a total of 15 minutes to idenitfy the behaviour and record the statistics for both roads experiencing a rush period. Results will be evaluated on an hourly basis.</p>"
   ]
  },
  {
   "cell_type": "code",
   "execution_count": 25,
   "id": "1ec0bdb8",
   "metadata": {
    "ExecuteTime": {
     "end_time": "2022-03-30T16:26:04.379602Z",
     "start_time": "2022-03-30T16:25:57.335950Z"
    }
   },
   "outputs": [
    {
     "data": {
      "image/png": "[encoded data removed]",
      "text/plain": [
       "<Figure size 1297.4x1297.4 with 1 Axes>"
      ]
     },
     "metadata": {
      "needs_background": "light"
     },
     "output_type": "display_data"
    }
   ],
   "source": [
    "random.seed(0)\n",
    "\n",
    "IATmainN = 18\n",
    "IATmainS = 12\n",
    "IATcrossE = 18\n",
    "IATcrossW = 18\n",
    "VMAXmain = 65/3.6\n",
    "VMAXcross = 50/3.6 # takes km and divides it into metres.\n",
    "rec1 = CrossingThroughRoad(900, \n",
    "                        VMAXmain=VMAXmain, \n",
    "                        VMAXcross=VMAXcross, \n",
    "                        IATmainN=IATmainN,\n",
    "                        IATmainS=IATmainS,\n",
    "                        IATcrossE = IATcrossE,\n",
    "                        IATcrossW = IATcrossW) \n",
    "\n",
    "# 900 seconds represent 15 minutes."
   ]
  },
  {
   "cell_type": "code",
   "execution_count": null,
   "id": "bdd4739a",
   "metadata": {},
   "outputs": [],
   "source": [
    "# # Attempting to idenitfy maximum traffic flow on the main road to accommodate required flow on the local road. \n",
    "# random.seed(0)\n",
    "\n",
    "# IATmainN = 72\n",
    "# IATmainS = 72\n",
    "# IATcrossE = 18\n",
    "# IATcrossW = 18\n",
    "# VMAXmain = 65/3.6\n",
    "# VMAXcross = 50/3.6 # takes km and divides it into metres.\n",
    "# rec1 = CrossingThroughRoad(900, \n",
    "#                         VMAXmain=VMAXmain, \n",
    "#                         VMAXcross=VMAXcross, \n",
    "#                         IATmainN=IATmainN,\n",
    "#                         IATmainS=IATmainS,\n",
    "#                         IATcrossE = IATcrossE,\n",
    "#                         IATcrossW = IATcrossW) \n",
    "\n",
    "# # 900 seconds represent 15 minutes."
   ]
  },
  {
   "cell_type": "markdown",
   "id": "da69428d",
   "metadata": {},
   "source": [
    "### Visualisation Crossing Through Road"
   ]
  },
  {
   "cell_type": "markdown",
   "id": "12935e96",
   "metadata": {},
   "source": [
    "[TOC](#Table-of-Contents)"
   ]
  },
  {
   "cell_type": "markdown",
   "id": "c8a57326",
   "metadata": {},
   "source": [
    "The purpose of the visualisation is a quick check that the model behaviour is about right"
   ]
  },
  {
   "cell_type": "code",
   "execution_count": 26,
   "id": "ce2ef11e",
   "metadata": {
    "ExecuteTime": {
     "end_time": "2022-03-30T16:26:04.703432Z",
     "start_time": "2022-03-30T16:26:04.380462Z"
    }
   },
   "outputs": [
    {
     "data": {
      "image/png": "[encoded data removed]",
      "text/plain": [
       "<Figure size 600x360 with 1 Axes>"
      ]
     },
     "metadata": {
      "needs_background": "light"
     },
     "output_type": "display_data"
    }
   ],
   "source": [
    "rec1.plot('t', 's', roads='Cross Rd', directions='EAST')"
   ]
  },
  {
   "cell_type": "code",
   "execution_count": 27,
   "id": "5d4a6f52",
   "metadata": {
    "ExecuteTime": {
     "end_time": "2022-03-30T16:26:04.895472Z",
     "start_time": "2022-03-30T16:26:04.704510Z"
    }
   },
   "outputs": [
    {
     "data": {
      "image/png": "[encoded data removed]",
      "text/plain": [
       "<Figure size 600x360 with 1 Axes>"
      ]
     },
     "metadata": {
      "needs_background": "light"
     },
     "output_type": "display_data"
    }
   ],
   "source": [
    "rec1.plot('t', 's', roads='Cross Rd', directions='WEST')"
   ]
  },
  {
   "cell_type": "code",
   "execution_count": 28,
   "id": "c5674824",
   "metadata": {
    "ExecuteTime": {
     "end_time": "2022-03-30T16:26:05.934140Z",
     "start_time": "2022-03-30T16:26:04.896303Z"
    }
   },
   "outputs": [
    {
     "data": {
      "image/png": "[encoded data removed]",
      "text/plain": [
       "<Figure size 600x360 with 1 Axes>"
      ]
     },
     "metadata": {
      "needs_background": "light"
     },
     "output_type": "display_data"
    }
   ],
   "source": [
    "rec1.plot('t', 's', roads='Main St', directions='NORTH')"
   ]
  },
  {
   "cell_type": "code",
   "execution_count": 29,
   "id": "cd35444a",
   "metadata": {
    "ExecuteTime": {
     "end_time": "2022-03-30T16:26:06.986139Z",
     "start_time": "2022-03-30T16:26:05.935464Z"
    }
   },
   "outputs": [
    {
     "data": {
      "image/png": "[encoded data removed]",
      "text/plain": [
       "<Figure size 600x360 with 1 Axes>"
      ]
     },
     "metadata": {
      "needs_background": "light"
     },
     "output_type": "display_data"
    }
   ],
   "source": [
    "rec1.plot('t', 's', roads='Main St', directions='SOUTH')"
   ]
  },
  {
   "cell_type": "code",
   "execution_count": 30,
   "id": "a436c5bc",
   "metadata": {
    "ExecuteTime": {
     "end_time": "2022-03-30T16:26:06.988882Z",
     "start_time": "2022-03-30T16:26:06.987118Z"
    }
   },
   "outputs": [],
   "source": [
    "#animate(rec1, 'CrossingThroughRoad', start_time=300,  end_time=620)"
   ]
  },
  {
   "cell_type": "markdown",
   "id": "085d5198",
   "metadata": {},
   "source": [
    "### Statistics Crossing Through Road"
   ]
  },
  {
   "cell_type": "markdown",
   "id": "f7ee7da4",
   "metadata": {},
   "source": [
    "[TOC](#Table-of-Contents)"
   ]
  },
  {
   "cell_type": "markdown",
   "id": "d19ba64c",
   "metadata": {},
   "source": [
    "#### Traffic Density in veh/km"
   ]
  },
  {
   "cell_type": "code",
   "execution_count": 31,
   "id": "49fbf4e0",
   "metadata": {
    "ExecuteTime": {
     "end_time": "2022-03-30T16:26:07.182417Z",
     "start_time": "2022-03-30T16:26:06.989560Z"
    }
   },
   "outputs": [
    {
     "data": {
      "image/png": "[encoded data removed]",
      "text/plain": [
       "<Figure size 600x360 with 1 Axes>"
      ]
     },
     "metadata": {
      "needs_background": "light"
     },
     "output_type": "display_data"
    },
    {
     "data": {
      "text/plain": [
       "1.37"
      ]
     },
     "execution_count": 31,
     "metadata": {},
     "output_type": "execute_result"
    }
   ],
   "source": [
    "rec1.density(roads='Main St', directions='NORTH', plot=True)"
   ]
  },
  {
   "cell_type": "code",
   "execution_count": 32,
   "id": "b134c7a3",
   "metadata": {
    "ExecuteTime": {
     "end_time": "2022-03-30T16:26:07.388549Z",
     "start_time": "2022-03-30T16:26:07.186513Z"
    }
   },
   "outputs": [
    {
     "data": {
      "image/png": "[encoded data removed]",
      "text/plain": [
       "<Figure size 600x360 with 1 Axes>"
      ]
     },
     "metadata": {
      "needs_background": "light"
     },
     "output_type": "display_data"
    },
    {
     "data": {
      "text/plain": [
       "1.61"
      ]
     },
     "execution_count": 32,
     "metadata": {},
     "output_type": "execute_result"
    }
   ],
   "source": [
    "rec1.density(roads='Main St', directions='SOUTH', plot=True)"
   ]
  },
  {
   "cell_type": "code",
   "execution_count": 33,
   "id": "621feabe",
   "metadata": {
    "ExecuteTime": {
     "end_time": "2022-03-30T16:26:07.612749Z",
     "start_time": "2022-03-30T16:26:07.389896Z"
    }
   },
   "outputs": [
    {
     "data": {
      "image/png": "[encoded data removed]",
      "text/plain": [
       "<Figure size 600x360 with 1 Axes>"
      ]
     },
     "metadata": {
      "needs_background": "light"
     },
     "output_type": "display_data"
    },
    {
     "data": {
      "text/plain": [
       "10.26"
      ]
     },
     "execution_count": 33,
     "metadata": {},
     "output_type": "execute_result"
    }
   ],
   "source": [
    "rec1.density(roads='Cross Rd', directions='WEST', plot=True)"
   ]
  },
  {
   "cell_type": "code",
   "execution_count": 34,
   "id": "b487e3d7",
   "metadata": {},
   "outputs": [
    {
     "data": {
      "image/png": "[encoded data removed]",
      "text/plain": [
       "<Figure size 600x360 with 1 Axes>"
      ]
     },
     "metadata": {
      "needs_background": "light"
     },
     "output_type": "display_data"
    },
    {
     "data": {
      "text/plain": [
       "7.64"
      ]
     },
     "execution_count": 34,
     "metadata": {},
     "output_type": "execute_result"
    }
   ],
   "source": [
    "rec1.density(roads='Cross Rd', directions='EAST', plot=True)"
   ]
  },
  {
   "cell_type": "markdown",
   "id": "07698e09",
   "metadata": {},
   "source": [
    "#### Traffic Flow in veh/h"
   ]
  },
  {
   "cell_type": "code",
   "execution_count": 35,
   "id": "df7b99e5",
   "metadata": {
    "ExecuteTime": {
     "end_time": "2022-03-30T16:26:07.626363Z",
     "start_time": "2022-03-30T16:26:07.613868Z"
    }
   },
   "outputs": [
    {
     "name": "stdout",
     "output_type": "stream",
     "text": [
      "N-bound Flow:   69.8veh/h  expected flow:   50.0veh/h \n",
      "S-bound Flow:   74.0veh/h  expected flow:   50.0veh/h \n",
      "E-bound Flow:  173.5veh/h  expected flow:  200.0veh/h \n",
      "W-bound Flow:  202.7veh/h  expected flow:  200.0veh/h \n"
     ]
    }
   ],
   "source": [
    "VL = rec1.network.VL\n",
    "flowN = rec1.flow(roads='Main St', directions='NORTH') # shows amount of cars which passed through the simulation\n",
    "expectedFlowN = 3600/IATmainN # 450 cars are expecected\n",
    "print(f\"N-bound Flow: {flowN:6.1f}veh/h  \"\n",
    "      f\"expected flow: {expectedFlowN:6.1f}veh/h \")\n",
    "flowS = rec1.flow(roads='Main St', directions='SOUTH')\n",
    "expectedFlowS = 3600/IATmainS\n",
    "print(f\"S-bound Flow: {flowS:6.1f}veh/h  \"\n",
    "      f\"expected flow: {expectedFlowS:6.1f}veh/h \")\n",
    "flowE = rec1.flow(roads='Cross Rd', directions='EAST')\n",
    "expectedFlowE = 3600/IATcrossE\n",
    "print(f\"E-bound Flow: {flowE:6.1f}veh/h  \"\n",
    "      f\"expected flow: {expectedFlowE:6.1f}veh/h \")\n",
    "flowW = rec1.flow(roads='Cross Rd', directions='WEST')\n",
    "expectedFlowW = 3600/IATcrossW\n",
    "print(f\"W-bound Flow: {flowW:6.1f}veh/h  \"\n",
    "      f\"expected flow: {expectedFlowW:6.1f}veh/h \")"
   ]
  },
  {
   "cell_type": "code",
   "execution_count": 36,
   "id": "1c2a9364",
   "metadata": {
    "ExecuteTime": {
     "end_time": "2022-03-30T16:26:07.634570Z",
     "start_time": "2022-03-30T16:26:07.628132Z"
    }
   },
   "outputs": [
    {
     "data": {
      "text/plain": [
       "202.67"
      ]
     },
     "execution_count": 36,
     "metadata": {},
     "output_type": "execute_result"
    }
   ],
   "source": [
    "rec1.flow(roads='Cross Rd', directions='WEST')"
   ]
  },
  {
   "cell_type": "code",
   "execution_count": 37,
   "id": "984b0118",
   "metadata": {
    "ExecuteTime": {
     "end_time": "2022-03-30T16:26:07.642135Z",
     "start_time": "2022-03-30T16:26:07.636449Z"
    }
   },
   "outputs": [
    {
     "data": {
      "text/plain": [
       "173.49"
      ]
     },
     "execution_count": 37,
     "metadata": {},
     "output_type": "execute_result"
    }
   ],
   "source": [
    "rec1.flow(roads='Cross Rd', directions='EAST')"
   ]
  },
  {
   "cell_type": "markdown",
   "id": "59dadde8",
   "metadata": {},
   "source": [
    "When a direction is not specified, the flows in both directions are actually added up."
   ]
  },
  {
   "cell_type": "code",
   "execution_count": 38,
   "id": "4f0e2a96",
   "metadata": {
    "ExecuteTime": {
     "end_time": "2022-03-30T16:26:07.648984Z",
     "start_time": "2022-03-30T16:26:07.643557Z"
    },
    "scrolled": true
   },
   "outputs": [
    {
     "data": {
      "text/plain": [
       "378.93"
      ]
     },
     "execution_count": 38,
     "metadata": {},
     "output_type": "execute_result"
    }
   ],
   "source": [
    "rec1.flow(roads='Cross Rd')"
   ]
  },
  {
   "cell_type": "markdown",
   "id": "6b9ccb82",
   "metadata": {},
   "source": [
    "#### Average Travelling Time in s"
   ]
  },
  {
   "cell_type": "code",
   "execution_count": 39,
   "id": "7649dbef",
   "metadata": {
    "ExecuteTime": {
     "end_time": "2022-03-30T16:26:07.663892Z",
     "start_time": "2022-03-30T16:26:07.650259Z"
    }
   },
   "outputs": [
    {
     "data": {
      "text/plain": [
       "60.0"
      ]
     },
     "execution_count": 39,
     "metadata": {},
     "output_type": "execute_result"
    }
   ],
   "source": [
    "rec1.avgTravelTime(roads='Main St', directions='NORTH')"
   ]
  },
  {
   "cell_type": "code",
   "execution_count": 40,
   "id": "55e1d3bb",
   "metadata": {
    "ExecuteTime": {
     "end_time": "2022-03-30T16:26:07.676889Z",
     "start_time": "2022-03-30T16:26:07.664822Z"
    }
   },
   "outputs": [
    {
     "data": {
      "text/plain": [
       "60.0"
      ]
     },
     "execution_count": 40,
     "metadata": {},
     "output_type": "execute_result"
    }
   ],
   "source": [
    "rec1.avgTravelTime(roads='Main St', directions='SOUTH')"
   ]
  },
  {
   "cell_type": "code",
   "execution_count": 41,
   "id": "a7cf3b7b",
   "metadata": {
    "ExecuteTime": {
     "end_time": "2022-03-30T16:26:07.700107Z",
     "start_time": "2022-03-30T16:26:07.677796Z"
    }
   },
   "outputs": [
    {
     "data": {
      "text/plain": [
       "60.0"
      ]
     },
     "execution_count": 41,
     "metadata": {},
     "output_type": "execute_result"
    }
   ],
   "source": [
    "rec1.avgTravelTime(roads='Main St')"
   ]
  },
  {
   "cell_type": "code",
   "execution_count": 42,
   "id": "8e9dfd6e",
   "metadata": {
    "ExecuteTime": {
     "end_time": "2022-03-30T16:26:07.708899Z",
     "start_time": "2022-03-30T16:26:07.700960Z"
    }
   },
   "outputs": [
    {
     "data": {
      "text/plain": [
       "170.9"
      ]
     },
     "execution_count": 42,
     "metadata": {},
     "output_type": "execute_result"
    }
   ],
   "source": [
    "rec1.avgTravelTime(roads='Cross Rd', directions='WEST')"
   ]
  },
  {
   "cell_type": "code",
   "execution_count": 43,
   "id": "6a44f3d5",
   "metadata": {
    "ExecuteTime": {
     "end_time": "2022-03-30T16:26:07.717774Z",
     "start_time": "2022-03-30T16:26:07.711248Z"
    }
   },
   "outputs": [
    {
     "data": {
      "text/plain": [
       "154.74"
      ]
     },
     "execution_count": 43,
     "metadata": {},
     "output_type": "execute_result"
    }
   ],
   "source": [
    "rec1.avgTravelTime(roads='Cross Rd', directions='EAST')"
   ]
  },
  {
   "cell_type": "code",
   "execution_count": 44,
   "id": "36051d63",
   "metadata": {
    "ExecuteTime": {
     "end_time": "2022-03-30T16:26:07.728967Z",
     "start_time": "2022-03-30T16:26:07.719962Z"
    }
   },
   "outputs": [
    {
     "data": {
      "text/plain": [
       "163.4"
      ]
     },
     "execution_count": 44,
     "metadata": {},
     "output_type": "execute_result"
    }
   ],
   "source": [
    "rec1.avgTravelTime(roads='Cross Rd')"
   ]
  },
  {
   "cell_type": "markdown",
   "id": "96c1ec2f",
   "metadata": {},
   "source": [
    "#### Average Speed in km/h"
   ]
  },
  {
   "cell_type": "code",
   "execution_count": 45,
   "id": "66c17181",
   "metadata": {
    "ExecuteTime": {
     "end_time": "2022-03-30T16:26:07.755892Z",
     "start_time": "2022-03-30T16:26:07.730985Z"
    }
   },
   "outputs": [
    {
     "data": {
      "text/plain": [
       "60.0"
      ]
     },
     "execution_count": 45,
     "metadata": {},
     "output_type": "execute_result"
    }
   ],
   "source": [
    "rec1.avgSpeed(roads='Main St')"
   ]
  },
  {
   "cell_type": "code",
   "execution_count": 46,
   "id": "65882220",
   "metadata": {
    "ExecuteTime": {
     "end_time": "2022-03-30T16:26:07.766264Z",
     "start_time": "2022-03-30T16:26:07.756925Z"
    }
   },
   "outputs": [
    {
     "data": {
      "text/plain": [
       "22.03"
      ]
     },
     "execution_count": 46,
     "metadata": {},
     "output_type": "execute_result"
    }
   ],
   "source": [
    "rec1.avgSpeed(roads='Cross Rd')"
   ]
  },
  {
   "cell_type": "code",
   "execution_count": 47,
   "id": "8e3b412c",
   "metadata": {
    "ExecuteTime": {
     "end_time": "2022-03-30T16:26:07.775427Z",
     "start_time": "2022-03-30T16:26:07.767352Z"
    }
   },
   "outputs": [
    {
     "data": {
      "text/plain": [
       "21.06"
      ]
     },
     "execution_count": 47,
     "metadata": {},
     "output_type": "execute_result"
    }
   ],
   "source": [
    "rec1.avgSpeed(roads='Cross Rd', directions='WEST')"
   ]
  },
  {
   "cell_type": "code",
   "execution_count": 48,
   "id": "3b365e7d",
   "metadata": {
    "ExecuteTime": {
     "end_time": "2022-03-30T16:26:07.783844Z",
     "start_time": "2022-03-30T16:26:07.776716Z"
    }
   },
   "outputs": [
    {
     "data": {
      "text/plain": [
       "23.26"
      ]
     },
     "execution_count": 48,
     "metadata": {},
     "output_type": "execute_result"
    }
   ],
   "source": [
    "rec1.avgSpeed(roads='Cross Rd', directions='EAST')"
   ]
  },
  {
   "cell_type": "markdown",
   "id": "0519f672",
   "metadata": {},
   "source": [
    "#### Average WaitTime in Seconds"
   ]
  },
  {
   "cell_type": "code",
   "execution_count": 49,
   "id": "62669e79",
   "metadata": {},
   "outputs": [
    {
     "data": {
      "text/plain": [
       "131.05"
      ]
     },
     "execution_count": 49,
     "metadata": {},
     "output_type": "execute_result"
    }
   ],
   "source": [
    "rec1.avgWaitTime(roads='Cross Rd', directions='WEST')"
   ]
  },
  {
   "cell_type": "code",
   "execution_count": 50,
   "id": "fd132258",
   "metadata": {},
   "outputs": [
    {
     "data": {
      "text/plain": [
       "114.35"
      ]
     },
     "execution_count": 50,
     "metadata": {},
     "output_type": "execute_result"
    }
   ],
   "source": [
    "rec1.avgWaitTime(roads='Cross Rd', directions='EAST')"
   ]
  },
  {
   "cell_type": "markdown",
   "id": "8b52d30d",
   "metadata": {},
   "source": [
    "#### Max Queue Lenght for Local Road"
   ]
  },
  {
   "cell_type": "code",
   "execution_count": 51,
   "id": "d927f1f2",
   "metadata": {},
   "outputs": [
    {
     "data": {
      "text/plain": [
       "35"
      ]
     },
     "execution_count": 51,
     "metadata": {},
     "output_type": "execute_result"
    }
   ],
   "source": [
    "rec1.maxQueueLength(roads='Cross Rd', directions='WEST')"
   ]
  },
  {
   "cell_type": "code",
   "execution_count": 52,
   "id": "5b3b6d96",
   "metadata": {},
   "outputs": [
    {
     "data": {
      "text/plain": [
       "25"
      ]
     },
     "execution_count": 52,
     "metadata": {},
     "output_type": "execute_result"
    }
   ],
   "source": [
    "rec1.maxQueueLength(roads='Cross Rd', directions='EAST')"
   ]
  }
 ],
 "metadata": {
  "kernelspec": {
   "display_name": "Python 3",
   "language": "python",
   "name": "python3"
  },
  "language_info": {
   "codemirror_mode": {
    "name": "ipython",
    "version": 3
   },
   "file_extension": ".py",
   "mimetype": "text/x-python",
   "name": "python",
   "nbconvert_exporter": "python",
   "pygments_lexer": "ipython3",
   "version": "3.8.8"
  },
  "toc": {
   "base_numbering": 1,
   "nav_menu": {},
   "number_sections": true,
   "sideBar": true,
   "skip_h1_title": false,
   "title_cell": "Table of Contents",
   "title_sidebar": "Contents",
   "toc_cell": true,
   "toc_position": {},
   "toc_section_display": true,
   "toc_window_display": false
  }
 },
 "nbformat": 4,
 "nbformat_minor": 5
}
